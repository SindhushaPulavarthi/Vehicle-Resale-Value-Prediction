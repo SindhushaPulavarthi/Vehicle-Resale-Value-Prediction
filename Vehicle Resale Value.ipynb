{
 "cells": [
  {
   "cell_type": "markdown",
   "metadata": {},
   "source": [
    "# Problem Statement : Predicting the Resale Price of a Vehicle"
   ]
  },
  {
   "cell_type": "markdown",
   "metadata": {},
   "source": [
    "## Importing the Libraries"
   ]
  },
  {
   "cell_type": "code",
   "execution_count": 1,
   "metadata": {},
   "outputs": [],
   "source": [
    "import pandas as pd\n",
    "\n",
    "import matplotlib.pyplot as plt\n",
    "import numpy as np\n",
    "from sklearn import datasets, linear_model, preprocessing, svm\n",
    "from sklearn.preprocessing import StandardScaler, Normalizer\n",
    "import math\n",
    "import matplotlib\n",
    "import seaborn as sns\n",
    "\n",
    "%matplotlib inline\n",
    "\n",
    "from sklearn.compose import ColumnTransformer \n",
    "from sklearn.preprocessing import OneHotEncoder \n",
    "from sklearn.preprocessing import LabelEncoder "
   ]
  },
  {
   "cell_type": "markdown",
   "metadata": {},
   "source": [
    "## Importing the Dataset"
   ]
  },
  {
   "cell_type": "code",
   "execution_count": 2,
   "metadata": {
    "scrolled": true
   },
   "outputs": [
    {
     "data": {
      "text/html": [
       "<div>\n",
       "<style scoped>\n",
       "    .dataframe tbody tr th:only-of-type {\n",
       "        vertical-align: middle;\n",
       "    }\n",
       "\n",
       "    .dataframe tbody tr th {\n",
       "        vertical-align: top;\n",
       "    }\n",
       "\n",
       "    .dataframe thead th {\n",
       "        text-align: right;\n",
       "    }\n",
       "</style>\n",
       "<table border=\"1\" class=\"dataframe\">\n",
       "  <thead>\n",
       "    <tr style=\"text-align: right;\">\n",
       "      <th></th>\n",
       "      <th>dateCrawled</th>\n",
       "      <th>name</th>\n",
       "      <th>seller</th>\n",
       "      <th>offerType</th>\n",
       "      <th>price</th>\n",
       "      <th>abtest</th>\n",
       "      <th>vehicleType</th>\n",
       "      <th>yearOfRegistration</th>\n",
       "      <th>gearbox</th>\n",
       "      <th>powerPS</th>\n",
       "      <th>model</th>\n",
       "      <th>kilometer</th>\n",
       "      <th>monthOfRegistration</th>\n",
       "      <th>fuelType</th>\n",
       "      <th>brand</th>\n",
       "      <th>notRepairedDamage</th>\n",
       "      <th>dateCreated</th>\n",
       "      <th>nrOfPictures</th>\n",
       "      <th>postalCode</th>\n",
       "      <th>lastSeen</th>\n",
       "    </tr>\n",
       "  </thead>\n",
       "  <tbody>\n",
       "    <tr>\n",
       "      <th>0</th>\n",
       "      <td>2016-03-24 11:52:17</td>\n",
       "      <td>Golf_3_1.6</td>\n",
       "      <td>privat</td>\n",
       "      <td>Angebot</td>\n",
       "      <td>480</td>\n",
       "      <td>test</td>\n",
       "      <td>NaN</td>\n",
       "      <td>1993</td>\n",
       "      <td>manuell</td>\n",
       "      <td>0</td>\n",
       "      <td>golf</td>\n",
       "      <td>150000</td>\n",
       "      <td>0</td>\n",
       "      <td>benzin</td>\n",
       "      <td>volkswagen</td>\n",
       "      <td>NaN</td>\n",
       "      <td>2016-03-24 00:00:00</td>\n",
       "      <td>0</td>\n",
       "      <td>70435</td>\n",
       "      <td>2016-04-07 03:16:57</td>\n",
       "    </tr>\n",
       "    <tr>\n",
       "      <th>1</th>\n",
       "      <td>2016-03-24 10:58:45</td>\n",
       "      <td>A5_Sportback_2.7_Tdi</td>\n",
       "      <td>privat</td>\n",
       "      <td>Angebot</td>\n",
       "      <td>18300</td>\n",
       "      <td>test</td>\n",
       "      <td>coupe</td>\n",
       "      <td>2011</td>\n",
       "      <td>manuell</td>\n",
       "      <td>190</td>\n",
       "      <td>NaN</td>\n",
       "      <td>125000</td>\n",
       "      <td>5</td>\n",
       "      <td>diesel</td>\n",
       "      <td>audi</td>\n",
       "      <td>ja</td>\n",
       "      <td>2016-03-24 00:00:00</td>\n",
       "      <td>0</td>\n",
       "      <td>66954</td>\n",
       "      <td>2016-04-07 01:46:50</td>\n",
       "    </tr>\n",
       "    <tr>\n",
       "      <th>2</th>\n",
       "      <td>2016-03-14 12:52:21</td>\n",
       "      <td>Jeep_Grand_Cherokee_\"Overland\"</td>\n",
       "      <td>privat</td>\n",
       "      <td>Angebot</td>\n",
       "      <td>9800</td>\n",
       "      <td>test</td>\n",
       "      <td>suv</td>\n",
       "      <td>2004</td>\n",
       "      <td>automatik</td>\n",
       "      <td>163</td>\n",
       "      <td>grand</td>\n",
       "      <td>125000</td>\n",
       "      <td>8</td>\n",
       "      <td>diesel</td>\n",
       "      <td>jeep</td>\n",
       "      <td>NaN</td>\n",
       "      <td>2016-03-14 00:00:00</td>\n",
       "      <td>0</td>\n",
       "      <td>90480</td>\n",
       "      <td>2016-04-05 12:47:46</td>\n",
       "    </tr>\n",
       "    <tr>\n",
       "      <th>3</th>\n",
       "      <td>2016-03-17 16:54:04</td>\n",
       "      <td>GOLF_4_1_4__3TÜRER</td>\n",
       "      <td>privat</td>\n",
       "      <td>Angebot</td>\n",
       "      <td>1500</td>\n",
       "      <td>test</td>\n",
       "      <td>kleinwagen</td>\n",
       "      <td>2001</td>\n",
       "      <td>manuell</td>\n",
       "      <td>75</td>\n",
       "      <td>golf</td>\n",
       "      <td>150000</td>\n",
       "      <td>6</td>\n",
       "      <td>benzin</td>\n",
       "      <td>volkswagen</td>\n",
       "      <td>nein</td>\n",
       "      <td>2016-03-17 00:00:00</td>\n",
       "      <td>0</td>\n",
       "      <td>91074</td>\n",
       "      <td>2016-03-17 17:40:17</td>\n",
       "    </tr>\n",
       "    <tr>\n",
       "      <th>4</th>\n",
       "      <td>2016-03-31 17:25:20</td>\n",
       "      <td>Skoda_Fabia_1.4_TDI_PD_Classic</td>\n",
       "      <td>privat</td>\n",
       "      <td>Angebot</td>\n",
       "      <td>3600</td>\n",
       "      <td>test</td>\n",
       "      <td>kleinwagen</td>\n",
       "      <td>2008</td>\n",
       "      <td>manuell</td>\n",
       "      <td>69</td>\n",
       "      <td>fabia</td>\n",
       "      <td>90000</td>\n",
       "      <td>7</td>\n",
       "      <td>diesel</td>\n",
       "      <td>skoda</td>\n",
       "      <td>nein</td>\n",
       "      <td>2016-03-31 00:00:00</td>\n",
       "      <td>0</td>\n",
       "      <td>60437</td>\n",
       "      <td>2016-04-06 10:17:21</td>\n",
       "    </tr>\n",
       "    <tr>\n",
       "      <th>...</th>\n",
       "      <td>...</td>\n",
       "      <td>...</td>\n",
       "      <td>...</td>\n",
       "      <td>...</td>\n",
       "      <td>...</td>\n",
       "      <td>...</td>\n",
       "      <td>...</td>\n",
       "      <td>...</td>\n",
       "      <td>...</td>\n",
       "      <td>...</td>\n",
       "      <td>...</td>\n",
       "      <td>...</td>\n",
       "      <td>...</td>\n",
       "      <td>...</td>\n",
       "      <td>...</td>\n",
       "      <td>...</td>\n",
       "      <td>...</td>\n",
       "      <td>...</td>\n",
       "      <td>...</td>\n",
       "      <td>...</td>\n",
       "    </tr>\n",
       "    <tr>\n",
       "      <th>371523</th>\n",
       "      <td>2016-03-14 17:48:27</td>\n",
       "      <td>Suche_t4___vito_ab_6_sitze</td>\n",
       "      <td>privat</td>\n",
       "      <td>Angebot</td>\n",
       "      <td>2200</td>\n",
       "      <td>test</td>\n",
       "      <td>NaN</td>\n",
       "      <td>2005</td>\n",
       "      <td>NaN</td>\n",
       "      <td>0</td>\n",
       "      <td>NaN</td>\n",
       "      <td>20000</td>\n",
       "      <td>1</td>\n",
       "      <td>NaN</td>\n",
       "      <td>sonstige_autos</td>\n",
       "      <td>NaN</td>\n",
       "      <td>2016-03-14 00:00:00</td>\n",
       "      <td>0</td>\n",
       "      <td>39576</td>\n",
       "      <td>2016-04-06 00:46:52</td>\n",
       "    </tr>\n",
       "    <tr>\n",
       "      <th>371524</th>\n",
       "      <td>2016-03-05 19:56:21</td>\n",
       "      <td>Smart_smart_leistungssteigerung_100ps</td>\n",
       "      <td>privat</td>\n",
       "      <td>Angebot</td>\n",
       "      <td>1199</td>\n",
       "      <td>test</td>\n",
       "      <td>cabrio</td>\n",
       "      <td>2000</td>\n",
       "      <td>automatik</td>\n",
       "      <td>101</td>\n",
       "      <td>fortwo</td>\n",
       "      <td>125000</td>\n",
       "      <td>3</td>\n",
       "      <td>benzin</td>\n",
       "      <td>smart</td>\n",
       "      <td>nein</td>\n",
       "      <td>2016-03-05 00:00:00</td>\n",
       "      <td>0</td>\n",
       "      <td>26135</td>\n",
       "      <td>2016-03-11 18:17:12</td>\n",
       "    </tr>\n",
       "    <tr>\n",
       "      <th>371525</th>\n",
       "      <td>2016-03-19 18:57:12</td>\n",
       "      <td>Volkswagen_Multivan_T4_TDI_7DC_UY2</td>\n",
       "      <td>privat</td>\n",
       "      <td>Angebot</td>\n",
       "      <td>9200</td>\n",
       "      <td>test</td>\n",
       "      <td>bus</td>\n",
       "      <td>1996</td>\n",
       "      <td>manuell</td>\n",
       "      <td>102</td>\n",
       "      <td>transporter</td>\n",
       "      <td>150000</td>\n",
       "      <td>3</td>\n",
       "      <td>diesel</td>\n",
       "      <td>volkswagen</td>\n",
       "      <td>nein</td>\n",
       "      <td>2016-03-19 00:00:00</td>\n",
       "      <td>0</td>\n",
       "      <td>87439</td>\n",
       "      <td>2016-04-07 07:15:26</td>\n",
       "    </tr>\n",
       "    <tr>\n",
       "      <th>371526</th>\n",
       "      <td>2016-03-20 19:41:08</td>\n",
       "      <td>VW_Golf_Kombi_1_9l_TDI</td>\n",
       "      <td>privat</td>\n",
       "      <td>Angebot</td>\n",
       "      <td>3400</td>\n",
       "      <td>test</td>\n",
       "      <td>kombi</td>\n",
       "      <td>2002</td>\n",
       "      <td>manuell</td>\n",
       "      <td>100</td>\n",
       "      <td>golf</td>\n",
       "      <td>150000</td>\n",
       "      <td>6</td>\n",
       "      <td>diesel</td>\n",
       "      <td>volkswagen</td>\n",
       "      <td>NaN</td>\n",
       "      <td>2016-03-20 00:00:00</td>\n",
       "      <td>0</td>\n",
       "      <td>40764</td>\n",
       "      <td>2016-03-24 12:45:21</td>\n",
       "    </tr>\n",
       "    <tr>\n",
       "      <th>371527</th>\n",
       "      <td>2016-03-07 19:39:19</td>\n",
       "      <td>BMW_M135i_vollausgestattet_NP_52.720____Euro</td>\n",
       "      <td>privat</td>\n",
       "      <td>Angebot</td>\n",
       "      <td>28990</td>\n",
       "      <td>control</td>\n",
       "      <td>limousine</td>\n",
       "      <td>2013</td>\n",
       "      <td>manuell</td>\n",
       "      <td>320</td>\n",
       "      <td>m_reihe</td>\n",
       "      <td>50000</td>\n",
       "      <td>8</td>\n",
       "      <td>benzin</td>\n",
       "      <td>bmw</td>\n",
       "      <td>nein</td>\n",
       "      <td>2016-03-07 00:00:00</td>\n",
       "      <td>0</td>\n",
       "      <td>73326</td>\n",
       "      <td>2016-03-22 03:17:10</td>\n",
       "    </tr>\n",
       "  </tbody>\n",
       "</table>\n",
       "<p>371528 rows × 20 columns</p>\n",
       "</div>"
      ],
      "text/plain": [
       "                dateCrawled                                          name  \\\n",
       "0       2016-03-24 11:52:17                                    Golf_3_1.6   \n",
       "1       2016-03-24 10:58:45                          A5_Sportback_2.7_Tdi   \n",
       "2       2016-03-14 12:52:21                Jeep_Grand_Cherokee_\"Overland\"   \n",
       "3       2016-03-17 16:54:04                            GOLF_4_1_4__3TÜRER   \n",
       "4       2016-03-31 17:25:20                Skoda_Fabia_1.4_TDI_PD_Classic   \n",
       "...                     ...                                           ...   \n",
       "371523  2016-03-14 17:48:27                    Suche_t4___vito_ab_6_sitze   \n",
       "371524  2016-03-05 19:56:21         Smart_smart_leistungssteigerung_100ps   \n",
       "371525  2016-03-19 18:57:12            Volkswagen_Multivan_T4_TDI_7DC_UY2   \n",
       "371526  2016-03-20 19:41:08                        VW_Golf_Kombi_1_9l_TDI   \n",
       "371527  2016-03-07 19:39:19  BMW_M135i_vollausgestattet_NP_52.720____Euro   \n",
       "\n",
       "        seller offerType  price   abtest vehicleType  yearOfRegistration  \\\n",
       "0       privat   Angebot    480     test         NaN                1993   \n",
       "1       privat   Angebot  18300     test       coupe                2011   \n",
       "2       privat   Angebot   9800     test         suv                2004   \n",
       "3       privat   Angebot   1500     test  kleinwagen                2001   \n",
       "4       privat   Angebot   3600     test  kleinwagen                2008   \n",
       "...        ...       ...    ...      ...         ...                 ...   \n",
       "371523  privat   Angebot   2200     test         NaN                2005   \n",
       "371524  privat   Angebot   1199     test      cabrio                2000   \n",
       "371525  privat   Angebot   9200     test         bus                1996   \n",
       "371526  privat   Angebot   3400     test       kombi                2002   \n",
       "371527  privat   Angebot  28990  control   limousine                2013   \n",
       "\n",
       "          gearbox  powerPS        model  kilometer  monthOfRegistration  \\\n",
       "0         manuell        0         golf     150000                    0   \n",
       "1         manuell      190          NaN     125000                    5   \n",
       "2       automatik      163        grand     125000                    8   \n",
       "3         manuell       75         golf     150000                    6   \n",
       "4         manuell       69        fabia      90000                    7   \n",
       "...           ...      ...          ...        ...                  ...   \n",
       "371523        NaN        0          NaN      20000                    1   \n",
       "371524  automatik      101       fortwo     125000                    3   \n",
       "371525    manuell      102  transporter     150000                    3   \n",
       "371526    manuell      100         golf     150000                    6   \n",
       "371527    manuell      320      m_reihe      50000                    8   \n",
       "\n",
       "       fuelType           brand notRepairedDamage          dateCreated  \\\n",
       "0        benzin      volkswagen               NaN  2016-03-24 00:00:00   \n",
       "1        diesel            audi                ja  2016-03-24 00:00:00   \n",
       "2        diesel            jeep               NaN  2016-03-14 00:00:00   \n",
       "3        benzin      volkswagen              nein  2016-03-17 00:00:00   \n",
       "4        diesel           skoda              nein  2016-03-31 00:00:00   \n",
       "...         ...             ...               ...                  ...   \n",
       "371523      NaN  sonstige_autos               NaN  2016-03-14 00:00:00   \n",
       "371524   benzin           smart              nein  2016-03-05 00:00:00   \n",
       "371525   diesel      volkswagen              nein  2016-03-19 00:00:00   \n",
       "371526   diesel      volkswagen               NaN  2016-03-20 00:00:00   \n",
       "371527   benzin             bmw              nein  2016-03-07 00:00:00   \n",
       "\n",
       "        nrOfPictures  postalCode             lastSeen  \n",
       "0                  0       70435  2016-04-07 03:16:57  \n",
       "1                  0       66954  2016-04-07 01:46:50  \n",
       "2                  0       90480  2016-04-05 12:47:46  \n",
       "3                  0       91074  2016-03-17 17:40:17  \n",
       "4                  0       60437  2016-04-06 10:17:21  \n",
       "...              ...         ...                  ...  \n",
       "371523             0       39576  2016-04-06 00:46:52  \n",
       "371524             0       26135  2016-03-11 18:17:12  \n",
       "371525             0       87439  2016-04-07 07:15:26  \n",
       "371526             0       40764  2016-03-24 12:45:21  \n",
       "371527             0       73326  2016-03-22 03:17:10  \n",
       "\n",
       "[371528 rows x 20 columns]"
      ]
     },
     "execution_count": 2,
     "metadata": {},
     "output_type": "execute_result"
    }
   ],
   "source": [
    "dataset=pd.read_csv('autos.csv',encoding='latin1')\n",
    "dataset"
   ]
  },
  {
   "cell_type": "code",
   "execution_count": 3,
   "metadata": {},
   "outputs": [
    {
     "data": {
      "text/plain": [
       "(371528, 20)"
      ]
     },
     "execution_count": 3,
     "metadata": {},
     "output_type": "execute_result"
    }
   ],
   "source": [
    "dataset.shape"
   ]
  },
  {
   "cell_type": "code",
   "execution_count": 4,
   "metadata": {
    "scrolled": true
   },
   "outputs": [
    {
     "data": {
      "text/html": [
       "<div>\n",
       "<style scoped>\n",
       "    .dataframe tbody tr th:only-of-type {\n",
       "        vertical-align: middle;\n",
       "    }\n",
       "\n",
       "    .dataframe tbody tr th {\n",
       "        vertical-align: top;\n",
       "    }\n",
       "\n",
       "    .dataframe thead th {\n",
       "        text-align: right;\n",
       "    }\n",
       "</style>\n",
       "<table border=\"1\" class=\"dataframe\">\n",
       "  <thead>\n",
       "    <tr style=\"text-align: right;\">\n",
       "      <th></th>\n",
       "      <th>dateCrawled</th>\n",
       "      <th>name</th>\n",
       "      <th>seller</th>\n",
       "      <th>offerType</th>\n",
       "      <th>price</th>\n",
       "      <th>abtest</th>\n",
       "      <th>vehicleType</th>\n",
       "      <th>yearOfRegistration</th>\n",
       "      <th>gearbox</th>\n",
       "      <th>powerPS</th>\n",
       "      <th>model</th>\n",
       "      <th>kilometer</th>\n",
       "      <th>monthOfRegistration</th>\n",
       "      <th>fuelType</th>\n",
       "      <th>brand</th>\n",
       "      <th>notRepairedDamage</th>\n",
       "      <th>dateCreated</th>\n",
       "      <th>nrOfPictures</th>\n",
       "      <th>postalCode</th>\n",
       "      <th>lastSeen</th>\n",
       "    </tr>\n",
       "  </thead>\n",
       "  <tbody>\n",
       "    <tr>\n",
       "      <th>0</th>\n",
       "      <td>2016-03-24 11:52:17</td>\n",
       "      <td>Golf_3_1.6</td>\n",
       "      <td>privat</td>\n",
       "      <td>Angebot</td>\n",
       "      <td>480</td>\n",
       "      <td>test</td>\n",
       "      <td>NaN</td>\n",
       "      <td>1993</td>\n",
       "      <td>manuell</td>\n",
       "      <td>0</td>\n",
       "      <td>golf</td>\n",
       "      <td>150000</td>\n",
       "      <td>0</td>\n",
       "      <td>benzin</td>\n",
       "      <td>volkswagen</td>\n",
       "      <td>NaN</td>\n",
       "      <td>2016-03-24 00:00:00</td>\n",
       "      <td>0</td>\n",
       "      <td>70435</td>\n",
       "      <td>2016-04-07 03:16:57</td>\n",
       "    </tr>\n",
       "    <tr>\n",
       "      <th>1</th>\n",
       "      <td>2016-03-24 10:58:45</td>\n",
       "      <td>A5_Sportback_2.7_Tdi</td>\n",
       "      <td>privat</td>\n",
       "      <td>Angebot</td>\n",
       "      <td>18300</td>\n",
       "      <td>test</td>\n",
       "      <td>coupe</td>\n",
       "      <td>2011</td>\n",
       "      <td>manuell</td>\n",
       "      <td>190</td>\n",
       "      <td>NaN</td>\n",
       "      <td>125000</td>\n",
       "      <td>5</td>\n",
       "      <td>diesel</td>\n",
       "      <td>audi</td>\n",
       "      <td>ja</td>\n",
       "      <td>2016-03-24 00:00:00</td>\n",
       "      <td>0</td>\n",
       "      <td>66954</td>\n",
       "      <td>2016-04-07 01:46:50</td>\n",
       "    </tr>\n",
       "    <tr>\n",
       "      <th>2</th>\n",
       "      <td>2016-03-14 12:52:21</td>\n",
       "      <td>Jeep_Grand_Cherokee_\"Overland\"</td>\n",
       "      <td>privat</td>\n",
       "      <td>Angebot</td>\n",
       "      <td>9800</td>\n",
       "      <td>test</td>\n",
       "      <td>suv</td>\n",
       "      <td>2004</td>\n",
       "      <td>automatik</td>\n",
       "      <td>163</td>\n",
       "      <td>grand</td>\n",
       "      <td>125000</td>\n",
       "      <td>8</td>\n",
       "      <td>diesel</td>\n",
       "      <td>jeep</td>\n",
       "      <td>NaN</td>\n",
       "      <td>2016-03-14 00:00:00</td>\n",
       "      <td>0</td>\n",
       "      <td>90480</td>\n",
       "      <td>2016-04-05 12:47:46</td>\n",
       "    </tr>\n",
       "    <tr>\n",
       "      <th>3</th>\n",
       "      <td>2016-03-17 16:54:04</td>\n",
       "      <td>GOLF_4_1_4__3TÜRER</td>\n",
       "      <td>privat</td>\n",
       "      <td>Angebot</td>\n",
       "      <td>1500</td>\n",
       "      <td>test</td>\n",
       "      <td>kleinwagen</td>\n",
       "      <td>2001</td>\n",
       "      <td>manuell</td>\n",
       "      <td>75</td>\n",
       "      <td>golf</td>\n",
       "      <td>150000</td>\n",
       "      <td>6</td>\n",
       "      <td>benzin</td>\n",
       "      <td>volkswagen</td>\n",
       "      <td>nein</td>\n",
       "      <td>2016-03-17 00:00:00</td>\n",
       "      <td>0</td>\n",
       "      <td>91074</td>\n",
       "      <td>2016-03-17 17:40:17</td>\n",
       "    </tr>\n",
       "    <tr>\n",
       "      <th>4</th>\n",
       "      <td>2016-03-31 17:25:20</td>\n",
       "      <td>Skoda_Fabia_1.4_TDI_PD_Classic</td>\n",
       "      <td>privat</td>\n",
       "      <td>Angebot</td>\n",
       "      <td>3600</td>\n",
       "      <td>test</td>\n",
       "      <td>kleinwagen</td>\n",
       "      <td>2008</td>\n",
       "      <td>manuell</td>\n",
       "      <td>69</td>\n",
       "      <td>fabia</td>\n",
       "      <td>90000</td>\n",
       "      <td>7</td>\n",
       "      <td>diesel</td>\n",
       "      <td>skoda</td>\n",
       "      <td>nein</td>\n",
       "      <td>2016-03-31 00:00:00</td>\n",
       "      <td>0</td>\n",
       "      <td>60437</td>\n",
       "      <td>2016-04-06 10:17:21</td>\n",
       "    </tr>\n",
       "  </tbody>\n",
       "</table>\n",
       "</div>"
      ],
      "text/plain": [
       "           dateCrawled                            name  seller offerType  \\\n",
       "0  2016-03-24 11:52:17                      Golf_3_1.6  privat   Angebot   \n",
       "1  2016-03-24 10:58:45            A5_Sportback_2.7_Tdi  privat   Angebot   \n",
       "2  2016-03-14 12:52:21  Jeep_Grand_Cherokee_\"Overland\"  privat   Angebot   \n",
       "3  2016-03-17 16:54:04              GOLF_4_1_4__3TÜRER  privat   Angebot   \n",
       "4  2016-03-31 17:25:20  Skoda_Fabia_1.4_TDI_PD_Classic  privat   Angebot   \n",
       "\n",
       "   price abtest vehicleType  yearOfRegistration    gearbox  powerPS  model  \\\n",
       "0    480   test         NaN                1993    manuell        0   golf   \n",
       "1  18300   test       coupe                2011    manuell      190    NaN   \n",
       "2   9800   test         suv                2004  automatik      163  grand   \n",
       "3   1500   test  kleinwagen                2001    manuell       75   golf   \n",
       "4   3600   test  kleinwagen                2008    manuell       69  fabia   \n",
       "\n",
       "   kilometer  monthOfRegistration fuelType       brand notRepairedDamage  \\\n",
       "0     150000                    0   benzin  volkswagen               NaN   \n",
       "1     125000                    5   diesel        audi                ja   \n",
       "2     125000                    8   diesel        jeep               NaN   \n",
       "3     150000                    6   benzin  volkswagen              nein   \n",
       "4      90000                    7   diesel       skoda              nein   \n",
       "\n",
       "           dateCreated  nrOfPictures  postalCode             lastSeen  \n",
       "0  2016-03-24 00:00:00             0       70435  2016-04-07 03:16:57  \n",
       "1  2016-03-24 00:00:00             0       66954  2016-04-07 01:46:50  \n",
       "2  2016-03-14 00:00:00             0       90480  2016-04-05 12:47:46  \n",
       "3  2016-03-17 00:00:00             0       91074  2016-03-17 17:40:17  \n",
       "4  2016-03-31 00:00:00             0       60437  2016-04-06 10:17:21  "
      ]
     },
     "execution_count": 4,
     "metadata": {},
     "output_type": "execute_result"
    }
   ],
   "source": [
    "dataset.head()"
   ]
  },
  {
   "cell_type": "code",
   "execution_count": 5,
   "metadata": {},
   "outputs": [
    {
     "name": "stdout",
     "output_type": "stream",
     "text": [
      "<class 'pandas.core.frame.DataFrame'>\n",
      "RangeIndex: 371528 entries, 0 to 371527\n",
      "Data columns (total 20 columns):\n",
      " #   Column               Non-Null Count   Dtype \n",
      "---  ------               --------------   ----- \n",
      " 0   dateCrawled          371528 non-null  object\n",
      " 1   name                 371528 non-null  object\n",
      " 2   seller               371528 non-null  object\n",
      " 3   offerType            371528 non-null  object\n",
      " 4   price                371528 non-null  int64 \n",
      " 5   abtest               371528 non-null  object\n",
      " 6   vehicleType          333659 non-null  object\n",
      " 7   yearOfRegistration   371528 non-null  int64 \n",
      " 8   gearbox              351319 non-null  object\n",
      " 9   powerPS              371528 non-null  int64 \n",
      " 10  model                351044 non-null  object\n",
      " 11  kilometer            371528 non-null  int64 \n",
      " 12  monthOfRegistration  371528 non-null  int64 \n",
      " 13  fuelType             338142 non-null  object\n",
      " 14  brand                371528 non-null  object\n",
      " 15  notRepairedDamage    299468 non-null  object\n",
      " 16  dateCreated          371528 non-null  object\n",
      " 17  nrOfPictures         371528 non-null  int64 \n",
      " 18  postalCode           371528 non-null  int64 \n",
      " 19  lastSeen             371528 non-null  object\n",
      "dtypes: int64(7), object(13)\n",
      "memory usage: 56.7+ MB\n"
     ]
    }
   ],
   "source": [
    "dataset.info()"
   ]
  },
  {
   "cell_type": "code",
   "execution_count": 6,
   "metadata": {
    "scrolled": false
   },
   "outputs": [
    {
     "data": {
      "text/html": [
       "<div>\n",
       "<style scoped>\n",
       "    .dataframe tbody tr th:only-of-type {\n",
       "        vertical-align: middle;\n",
       "    }\n",
       "\n",
       "    .dataframe tbody tr th {\n",
       "        vertical-align: top;\n",
       "    }\n",
       "\n",
       "    .dataframe thead th {\n",
       "        text-align: right;\n",
       "    }\n",
       "</style>\n",
       "<table border=\"1\" class=\"dataframe\">\n",
       "  <thead>\n",
       "    <tr style=\"text-align: right;\">\n",
       "      <th></th>\n",
       "      <th>price</th>\n",
       "      <th>yearOfRegistration</th>\n",
       "      <th>powerPS</th>\n",
       "      <th>kilometer</th>\n",
       "      <th>monthOfRegistration</th>\n",
       "      <th>nrOfPictures</th>\n",
       "      <th>postalCode</th>\n",
       "    </tr>\n",
       "  </thead>\n",
       "  <tbody>\n",
       "    <tr>\n",
       "      <th>count</th>\n",
       "      <td>3.715280e+05</td>\n",
       "      <td>371528.000000</td>\n",
       "      <td>371528.000000</td>\n",
       "      <td>371528.000000</td>\n",
       "      <td>371528.000000</td>\n",
       "      <td>371528.0</td>\n",
       "      <td>371528.00000</td>\n",
       "    </tr>\n",
       "    <tr>\n",
       "      <th>mean</th>\n",
       "      <td>1.729514e+04</td>\n",
       "      <td>2004.577997</td>\n",
       "      <td>115.549477</td>\n",
       "      <td>125618.688228</td>\n",
       "      <td>5.734445</td>\n",
       "      <td>0.0</td>\n",
       "      <td>50820.66764</td>\n",
       "    </tr>\n",
       "    <tr>\n",
       "      <th>std</th>\n",
       "      <td>3.587954e+06</td>\n",
       "      <td>92.866598</td>\n",
       "      <td>192.139578</td>\n",
       "      <td>40112.337051</td>\n",
       "      <td>3.712412</td>\n",
       "      <td>0.0</td>\n",
       "      <td>25799.08247</td>\n",
       "    </tr>\n",
       "    <tr>\n",
       "      <th>min</th>\n",
       "      <td>0.000000e+00</td>\n",
       "      <td>1000.000000</td>\n",
       "      <td>0.000000</td>\n",
       "      <td>5000.000000</td>\n",
       "      <td>0.000000</td>\n",
       "      <td>0.0</td>\n",
       "      <td>1067.00000</td>\n",
       "    </tr>\n",
       "    <tr>\n",
       "      <th>25%</th>\n",
       "      <td>1.150000e+03</td>\n",
       "      <td>1999.000000</td>\n",
       "      <td>70.000000</td>\n",
       "      <td>125000.000000</td>\n",
       "      <td>3.000000</td>\n",
       "      <td>0.0</td>\n",
       "      <td>30459.00000</td>\n",
       "    </tr>\n",
       "    <tr>\n",
       "      <th>50%</th>\n",
       "      <td>2.950000e+03</td>\n",
       "      <td>2003.000000</td>\n",
       "      <td>105.000000</td>\n",
       "      <td>150000.000000</td>\n",
       "      <td>6.000000</td>\n",
       "      <td>0.0</td>\n",
       "      <td>49610.00000</td>\n",
       "    </tr>\n",
       "    <tr>\n",
       "      <th>75%</th>\n",
       "      <td>7.200000e+03</td>\n",
       "      <td>2008.000000</td>\n",
       "      <td>150.000000</td>\n",
       "      <td>150000.000000</td>\n",
       "      <td>9.000000</td>\n",
       "      <td>0.0</td>\n",
       "      <td>71546.00000</td>\n",
       "    </tr>\n",
       "    <tr>\n",
       "      <th>max</th>\n",
       "      <td>2.147484e+09</td>\n",
       "      <td>9999.000000</td>\n",
       "      <td>20000.000000</td>\n",
       "      <td>150000.000000</td>\n",
       "      <td>12.000000</td>\n",
       "      <td>0.0</td>\n",
       "      <td>99998.00000</td>\n",
       "    </tr>\n",
       "  </tbody>\n",
       "</table>\n",
       "</div>"
      ],
      "text/plain": [
       "              price  yearOfRegistration        powerPS      kilometer  \\\n",
       "count  3.715280e+05       371528.000000  371528.000000  371528.000000   \n",
       "mean   1.729514e+04         2004.577997     115.549477  125618.688228   \n",
       "std    3.587954e+06           92.866598     192.139578   40112.337051   \n",
       "min    0.000000e+00         1000.000000       0.000000    5000.000000   \n",
       "25%    1.150000e+03         1999.000000      70.000000  125000.000000   \n",
       "50%    2.950000e+03         2003.000000     105.000000  150000.000000   \n",
       "75%    7.200000e+03         2008.000000     150.000000  150000.000000   \n",
       "max    2.147484e+09         9999.000000   20000.000000  150000.000000   \n",
       "\n",
       "       monthOfRegistration  nrOfPictures    postalCode  \n",
       "count        371528.000000      371528.0  371528.00000  \n",
       "mean              5.734445           0.0   50820.66764  \n",
       "std               3.712412           0.0   25799.08247  \n",
       "min               0.000000           0.0    1067.00000  \n",
       "25%               3.000000           0.0   30459.00000  \n",
       "50%               6.000000           0.0   49610.00000  \n",
       "75%               9.000000           0.0   71546.00000  \n",
       "max              12.000000           0.0   99998.00000  "
      ]
     },
     "execution_count": 6,
     "metadata": {},
     "output_type": "execute_result"
    }
   ],
   "source": [
    "dataset.describe()"
   ]
  },
  {
   "cell_type": "markdown",
   "metadata": {},
   "source": [
    "## Checking for Null Values"
   ]
  },
  {
   "cell_type": "code",
   "execution_count": 7,
   "metadata": {},
   "outputs": [
    {
     "data": {
      "text/plain": [
       "dateCrawled            False\n",
       "name                   False\n",
       "seller                 False\n",
       "offerType              False\n",
       "price                  False\n",
       "abtest                 False\n",
       "vehicleType             True\n",
       "yearOfRegistration     False\n",
       "gearbox                 True\n",
       "powerPS                False\n",
       "model                   True\n",
       "kilometer              False\n",
       "monthOfRegistration    False\n",
       "fuelType                True\n",
       "brand                  False\n",
       "notRepairedDamage       True\n",
       "dateCreated            False\n",
       "nrOfPictures           False\n",
       "postalCode             False\n",
       "lastSeen               False\n",
       "dtype: bool"
      ]
     },
     "execution_count": 7,
     "metadata": {},
     "output_type": "execute_result"
    }
   ],
   "source": [
    "dataset.isnull().any()"
   ]
  },
  {
   "cell_type": "code",
   "execution_count": 8,
   "metadata": {},
   "outputs": [
    {
     "data": {
      "text/plain": [
       "dateCrawled                0\n",
       "name                       0\n",
       "seller                     0\n",
       "offerType                  0\n",
       "price                      0\n",
       "abtest                     0\n",
       "vehicleType            37869\n",
       "yearOfRegistration         0\n",
       "gearbox                20209\n",
       "powerPS                    0\n",
       "model                  20484\n",
       "kilometer                  0\n",
       "monthOfRegistration        0\n",
       "fuelType               33386\n",
       "brand                      0\n",
       "notRepairedDamage      72060\n",
       "dateCreated                0\n",
       "nrOfPictures               0\n",
       "postalCode                 0\n",
       "lastSeen                   0\n",
       "dtype: int64"
      ]
     },
     "execution_count": 8,
     "metadata": {},
     "output_type": "execute_result"
    }
   ],
   "source": [
    "dataset.isnull().sum()"
   ]
  },
  {
   "cell_type": "markdown",
   "metadata": {},
   "source": [
    "## Dropping Unwanted Columns"
   ]
  },
  {
   "cell_type": "code",
   "execution_count": 9,
   "metadata": {},
   "outputs": [],
   "source": [
    "dataset.drop(['name','seller', 'offerType', 'abtest', 'dateCrawled', 'nrOfPictures', 'lastSeen', 'postalCode', 'dateCreated','model'], axis='columns', inplace=True)"
   ]
  },
  {
   "cell_type": "code",
   "execution_count": 10,
   "metadata": {},
   "outputs": [
    {
     "data": {
      "text/html": [
       "<div>\n",
       "<style scoped>\n",
       "    .dataframe tbody tr th:only-of-type {\n",
       "        vertical-align: middle;\n",
       "    }\n",
       "\n",
       "    .dataframe tbody tr th {\n",
       "        vertical-align: top;\n",
       "    }\n",
       "\n",
       "    .dataframe thead th {\n",
       "        text-align: right;\n",
       "    }\n",
       "</style>\n",
       "<table border=\"1\" class=\"dataframe\">\n",
       "  <thead>\n",
       "    <tr style=\"text-align: right;\">\n",
       "      <th></th>\n",
       "      <th>price</th>\n",
       "      <th>vehicleType</th>\n",
       "      <th>yearOfRegistration</th>\n",
       "      <th>gearbox</th>\n",
       "      <th>powerPS</th>\n",
       "      <th>kilometer</th>\n",
       "      <th>monthOfRegistration</th>\n",
       "      <th>fuelType</th>\n",
       "      <th>brand</th>\n",
       "      <th>notRepairedDamage</th>\n",
       "    </tr>\n",
       "  </thead>\n",
       "  <tbody>\n",
       "    <tr>\n",
       "      <th>0</th>\n",
       "      <td>480</td>\n",
       "      <td>NaN</td>\n",
       "      <td>1993</td>\n",
       "      <td>manuell</td>\n",
       "      <td>0</td>\n",
       "      <td>150000</td>\n",
       "      <td>0</td>\n",
       "      <td>benzin</td>\n",
       "      <td>volkswagen</td>\n",
       "      <td>NaN</td>\n",
       "    </tr>\n",
       "    <tr>\n",
       "      <th>1</th>\n",
       "      <td>18300</td>\n",
       "      <td>coupe</td>\n",
       "      <td>2011</td>\n",
       "      <td>manuell</td>\n",
       "      <td>190</td>\n",
       "      <td>125000</td>\n",
       "      <td>5</td>\n",
       "      <td>diesel</td>\n",
       "      <td>audi</td>\n",
       "      <td>ja</td>\n",
       "    </tr>\n",
       "    <tr>\n",
       "      <th>2</th>\n",
       "      <td>9800</td>\n",
       "      <td>suv</td>\n",
       "      <td>2004</td>\n",
       "      <td>automatik</td>\n",
       "      <td>163</td>\n",
       "      <td>125000</td>\n",
       "      <td>8</td>\n",
       "      <td>diesel</td>\n",
       "      <td>jeep</td>\n",
       "      <td>NaN</td>\n",
       "    </tr>\n",
       "    <tr>\n",
       "      <th>3</th>\n",
       "      <td>1500</td>\n",
       "      <td>kleinwagen</td>\n",
       "      <td>2001</td>\n",
       "      <td>manuell</td>\n",
       "      <td>75</td>\n",
       "      <td>150000</td>\n",
       "      <td>6</td>\n",
       "      <td>benzin</td>\n",
       "      <td>volkswagen</td>\n",
       "      <td>nein</td>\n",
       "    </tr>\n",
       "    <tr>\n",
       "      <th>4</th>\n",
       "      <td>3600</td>\n",
       "      <td>kleinwagen</td>\n",
       "      <td>2008</td>\n",
       "      <td>manuell</td>\n",
       "      <td>69</td>\n",
       "      <td>90000</td>\n",
       "      <td>7</td>\n",
       "      <td>diesel</td>\n",
       "      <td>skoda</td>\n",
       "      <td>nein</td>\n",
       "    </tr>\n",
       "    <tr>\n",
       "      <th>...</th>\n",
       "      <td>...</td>\n",
       "      <td>...</td>\n",
       "      <td>...</td>\n",
       "      <td>...</td>\n",
       "      <td>...</td>\n",
       "      <td>...</td>\n",
       "      <td>...</td>\n",
       "      <td>...</td>\n",
       "      <td>...</td>\n",
       "      <td>...</td>\n",
       "    </tr>\n",
       "    <tr>\n",
       "      <th>371523</th>\n",
       "      <td>2200</td>\n",
       "      <td>NaN</td>\n",
       "      <td>2005</td>\n",
       "      <td>NaN</td>\n",
       "      <td>0</td>\n",
       "      <td>20000</td>\n",
       "      <td>1</td>\n",
       "      <td>NaN</td>\n",
       "      <td>sonstige_autos</td>\n",
       "      <td>NaN</td>\n",
       "    </tr>\n",
       "    <tr>\n",
       "      <th>371524</th>\n",
       "      <td>1199</td>\n",
       "      <td>cabrio</td>\n",
       "      <td>2000</td>\n",
       "      <td>automatik</td>\n",
       "      <td>101</td>\n",
       "      <td>125000</td>\n",
       "      <td>3</td>\n",
       "      <td>benzin</td>\n",
       "      <td>smart</td>\n",
       "      <td>nein</td>\n",
       "    </tr>\n",
       "    <tr>\n",
       "      <th>371525</th>\n",
       "      <td>9200</td>\n",
       "      <td>bus</td>\n",
       "      <td>1996</td>\n",
       "      <td>manuell</td>\n",
       "      <td>102</td>\n",
       "      <td>150000</td>\n",
       "      <td>3</td>\n",
       "      <td>diesel</td>\n",
       "      <td>volkswagen</td>\n",
       "      <td>nein</td>\n",
       "    </tr>\n",
       "    <tr>\n",
       "      <th>371526</th>\n",
       "      <td>3400</td>\n",
       "      <td>kombi</td>\n",
       "      <td>2002</td>\n",
       "      <td>manuell</td>\n",
       "      <td>100</td>\n",
       "      <td>150000</td>\n",
       "      <td>6</td>\n",
       "      <td>diesel</td>\n",
       "      <td>volkswagen</td>\n",
       "      <td>NaN</td>\n",
       "    </tr>\n",
       "    <tr>\n",
       "      <th>371527</th>\n",
       "      <td>28990</td>\n",
       "      <td>limousine</td>\n",
       "      <td>2013</td>\n",
       "      <td>manuell</td>\n",
       "      <td>320</td>\n",
       "      <td>50000</td>\n",
       "      <td>8</td>\n",
       "      <td>benzin</td>\n",
       "      <td>bmw</td>\n",
       "      <td>nein</td>\n",
       "    </tr>\n",
       "  </tbody>\n",
       "</table>\n",
       "<p>371528 rows × 10 columns</p>\n",
       "</div>"
      ],
      "text/plain": [
       "        price vehicleType  yearOfRegistration    gearbox  powerPS  kilometer  \\\n",
       "0         480         NaN                1993    manuell        0     150000   \n",
       "1       18300       coupe                2011    manuell      190     125000   \n",
       "2        9800         suv                2004  automatik      163     125000   \n",
       "3        1500  kleinwagen                2001    manuell       75     150000   \n",
       "4        3600  kleinwagen                2008    manuell       69      90000   \n",
       "...       ...         ...                 ...        ...      ...        ...   \n",
       "371523   2200         NaN                2005        NaN        0      20000   \n",
       "371524   1199      cabrio                2000  automatik      101     125000   \n",
       "371525   9200         bus                1996    manuell      102     150000   \n",
       "371526   3400       kombi                2002    manuell      100     150000   \n",
       "371527  28990   limousine                2013    manuell      320      50000   \n",
       "\n",
       "        monthOfRegistration fuelType           brand notRepairedDamage  \n",
       "0                         0   benzin      volkswagen               NaN  \n",
       "1                         5   diesel            audi                ja  \n",
       "2                         8   diesel            jeep               NaN  \n",
       "3                         6   benzin      volkswagen              nein  \n",
       "4                         7   diesel           skoda              nein  \n",
       "...                     ...      ...             ...               ...  \n",
       "371523                    1      NaN  sonstige_autos               NaN  \n",
       "371524                    3   benzin           smart              nein  \n",
       "371525                    3   diesel      volkswagen              nein  \n",
       "371526                    6   diesel      volkswagen               NaN  \n",
       "371527                    8   benzin             bmw              nein  \n",
       "\n",
       "[371528 rows x 10 columns]"
      ]
     },
     "execution_count": 10,
     "metadata": {},
     "output_type": "execute_result"
    }
   ],
   "source": [
    "dataset"
   ]
  },
  {
   "cell_type": "code",
   "execution_count": 11,
   "metadata": {},
   "outputs": [
    {
     "data": {
      "text/plain": [
       "price                      0\n",
       "vehicleType            37869\n",
       "yearOfRegistration         0\n",
       "gearbox                20209\n",
       "powerPS                    0\n",
       "kilometer                  0\n",
       "monthOfRegistration        0\n",
       "fuelType               33386\n",
       "brand                      0\n",
       "notRepairedDamage      72060\n",
       "dtype: int64"
      ]
     },
     "execution_count": 11,
     "metadata": {},
     "output_type": "execute_result"
    }
   ],
   "source": [
    "dataset.isnull().sum()"
   ]
  },
  {
   "cell_type": "markdown",
   "metadata": {},
   "source": [
    "## Dropping Null Values"
   ]
  },
  {
   "cell_type": "code",
   "execution_count": 12,
   "metadata": {},
   "outputs": [],
   "source": [
    "dataset=dataset.dropna()"
   ]
  },
  {
   "cell_type": "code",
   "execution_count": 13,
   "metadata": {
    "scrolled": true
   },
   "outputs": [
    {
     "data": {
      "text/html": [
       "<div>\n",
       "<style scoped>\n",
       "    .dataframe tbody tr th:only-of-type {\n",
       "        vertical-align: middle;\n",
       "    }\n",
       "\n",
       "    .dataframe tbody tr th {\n",
       "        vertical-align: top;\n",
       "    }\n",
       "\n",
       "    .dataframe thead th {\n",
       "        text-align: right;\n",
       "    }\n",
       "</style>\n",
       "<table border=\"1\" class=\"dataframe\">\n",
       "  <thead>\n",
       "    <tr style=\"text-align: right;\">\n",
       "      <th></th>\n",
       "      <th>price</th>\n",
       "      <th>vehicleType</th>\n",
       "      <th>yearOfRegistration</th>\n",
       "      <th>gearbox</th>\n",
       "      <th>powerPS</th>\n",
       "      <th>kilometer</th>\n",
       "      <th>monthOfRegistration</th>\n",
       "      <th>fuelType</th>\n",
       "      <th>brand</th>\n",
       "      <th>notRepairedDamage</th>\n",
       "    </tr>\n",
       "  </thead>\n",
       "  <tbody>\n",
       "    <tr>\n",
       "      <th>1</th>\n",
       "      <td>18300</td>\n",
       "      <td>coupe</td>\n",
       "      <td>2011</td>\n",
       "      <td>manuell</td>\n",
       "      <td>190</td>\n",
       "      <td>125000</td>\n",
       "      <td>5</td>\n",
       "      <td>diesel</td>\n",
       "      <td>audi</td>\n",
       "      <td>ja</td>\n",
       "    </tr>\n",
       "    <tr>\n",
       "      <th>3</th>\n",
       "      <td>1500</td>\n",
       "      <td>kleinwagen</td>\n",
       "      <td>2001</td>\n",
       "      <td>manuell</td>\n",
       "      <td>75</td>\n",
       "      <td>150000</td>\n",
       "      <td>6</td>\n",
       "      <td>benzin</td>\n",
       "      <td>volkswagen</td>\n",
       "      <td>nein</td>\n",
       "    </tr>\n",
       "    <tr>\n",
       "      <th>4</th>\n",
       "      <td>3600</td>\n",
       "      <td>kleinwagen</td>\n",
       "      <td>2008</td>\n",
       "      <td>manuell</td>\n",
       "      <td>69</td>\n",
       "      <td>90000</td>\n",
       "      <td>7</td>\n",
       "      <td>diesel</td>\n",
       "      <td>skoda</td>\n",
       "      <td>nein</td>\n",
       "    </tr>\n",
       "    <tr>\n",
       "      <th>5</th>\n",
       "      <td>650</td>\n",
       "      <td>limousine</td>\n",
       "      <td>1995</td>\n",
       "      <td>manuell</td>\n",
       "      <td>102</td>\n",
       "      <td>150000</td>\n",
       "      <td>10</td>\n",
       "      <td>benzin</td>\n",
       "      <td>bmw</td>\n",
       "      <td>ja</td>\n",
       "    </tr>\n",
       "    <tr>\n",
       "      <th>6</th>\n",
       "      <td>2200</td>\n",
       "      <td>cabrio</td>\n",
       "      <td>2004</td>\n",
       "      <td>manuell</td>\n",
       "      <td>109</td>\n",
       "      <td>150000</td>\n",
       "      <td>8</td>\n",
       "      <td>benzin</td>\n",
       "      <td>peugeot</td>\n",
       "      <td>nein</td>\n",
       "    </tr>\n",
       "    <tr>\n",
       "      <th>...</th>\n",
       "      <td>...</td>\n",
       "      <td>...</td>\n",
       "      <td>...</td>\n",
       "      <td>...</td>\n",
       "      <td>...</td>\n",
       "      <td>...</td>\n",
       "      <td>...</td>\n",
       "      <td>...</td>\n",
       "      <td>...</td>\n",
       "      <td>...</td>\n",
       "    </tr>\n",
       "    <tr>\n",
       "      <th>371520</th>\n",
       "      <td>3200</td>\n",
       "      <td>limousine</td>\n",
       "      <td>2004</td>\n",
       "      <td>manuell</td>\n",
       "      <td>225</td>\n",
       "      <td>150000</td>\n",
       "      <td>5</td>\n",
       "      <td>benzin</td>\n",
       "      <td>seat</td>\n",
       "      <td>ja</td>\n",
       "    </tr>\n",
       "    <tr>\n",
       "      <th>371521</th>\n",
       "      <td>1150</td>\n",
       "      <td>bus</td>\n",
       "      <td>2000</td>\n",
       "      <td>manuell</td>\n",
       "      <td>0</td>\n",
       "      <td>150000</td>\n",
       "      <td>3</td>\n",
       "      <td>benzin</td>\n",
       "      <td>opel</td>\n",
       "      <td>nein</td>\n",
       "    </tr>\n",
       "    <tr>\n",
       "      <th>371524</th>\n",
       "      <td>1199</td>\n",
       "      <td>cabrio</td>\n",
       "      <td>2000</td>\n",
       "      <td>automatik</td>\n",
       "      <td>101</td>\n",
       "      <td>125000</td>\n",
       "      <td>3</td>\n",
       "      <td>benzin</td>\n",
       "      <td>smart</td>\n",
       "      <td>nein</td>\n",
       "    </tr>\n",
       "    <tr>\n",
       "      <th>371525</th>\n",
       "      <td>9200</td>\n",
       "      <td>bus</td>\n",
       "      <td>1996</td>\n",
       "      <td>manuell</td>\n",
       "      <td>102</td>\n",
       "      <td>150000</td>\n",
       "      <td>3</td>\n",
       "      <td>diesel</td>\n",
       "      <td>volkswagen</td>\n",
       "      <td>nein</td>\n",
       "    </tr>\n",
       "    <tr>\n",
       "      <th>371527</th>\n",
       "      <td>28990</td>\n",
       "      <td>limousine</td>\n",
       "      <td>2013</td>\n",
       "      <td>manuell</td>\n",
       "      <td>320</td>\n",
       "      <td>50000</td>\n",
       "      <td>8</td>\n",
       "      <td>benzin</td>\n",
       "      <td>bmw</td>\n",
       "      <td>nein</td>\n",
       "    </tr>\n",
       "  </tbody>\n",
       "</table>\n",
       "<p>268012 rows × 10 columns</p>\n",
       "</div>"
      ],
      "text/plain": [
       "        price vehicleType  yearOfRegistration    gearbox  powerPS  kilometer  \\\n",
       "1       18300       coupe                2011    manuell      190     125000   \n",
       "3        1500  kleinwagen                2001    manuell       75     150000   \n",
       "4        3600  kleinwagen                2008    manuell       69      90000   \n",
       "5         650   limousine                1995    manuell      102     150000   \n",
       "6        2200      cabrio                2004    manuell      109     150000   \n",
       "...       ...         ...                 ...        ...      ...        ...   \n",
       "371520   3200   limousine                2004    manuell      225     150000   \n",
       "371521   1150         bus                2000    manuell        0     150000   \n",
       "371524   1199      cabrio                2000  automatik      101     125000   \n",
       "371525   9200         bus                1996    manuell      102     150000   \n",
       "371527  28990   limousine                2013    manuell      320      50000   \n",
       "\n",
       "        monthOfRegistration fuelType       brand notRepairedDamage  \n",
       "1                         5   diesel        audi                ja  \n",
       "3                         6   benzin  volkswagen              nein  \n",
       "4                         7   diesel       skoda              nein  \n",
       "5                        10   benzin         bmw                ja  \n",
       "6                         8   benzin     peugeot              nein  \n",
       "...                     ...      ...         ...               ...  \n",
       "371520                    5   benzin        seat                ja  \n",
       "371521                    3   benzin        opel              nein  \n",
       "371524                    3   benzin       smart              nein  \n",
       "371525                    3   diesel  volkswagen              nein  \n",
       "371527                    8   benzin         bmw              nein  \n",
       "\n",
       "[268012 rows x 10 columns]"
      ]
     },
     "execution_count": 13,
     "metadata": {},
     "output_type": "execute_result"
    }
   ],
   "source": [
    "dataset"
   ]
  },
  {
   "cell_type": "code",
   "execution_count": 14,
   "metadata": {},
   "outputs": [
    {
     "data": {
      "text/plain": [
       "price                  0\n",
       "vehicleType            0\n",
       "yearOfRegistration     0\n",
       "gearbox                0\n",
       "powerPS                0\n",
       "kilometer              0\n",
       "monthOfRegistration    0\n",
       "fuelType               0\n",
       "brand                  0\n",
       "notRepairedDamage      0\n",
       "dtype: int64"
      ]
     },
     "execution_count": 14,
     "metadata": {},
     "output_type": "execute_result"
    }
   ],
   "source": [
    "dataset.isnull().sum()"
   ]
  },
  {
   "cell_type": "code",
   "execution_count": 15,
   "metadata": {},
   "outputs": [
    {
     "data": {
      "text/html": [
       "<div>\n",
       "<style scoped>\n",
       "    .dataframe tbody tr th:only-of-type {\n",
       "        vertical-align: middle;\n",
       "    }\n",
       "\n",
       "    .dataframe tbody tr th {\n",
       "        vertical-align: top;\n",
       "    }\n",
       "\n",
       "    .dataframe thead th {\n",
       "        text-align: right;\n",
       "    }\n",
       "</style>\n",
       "<table border=\"1\" class=\"dataframe\">\n",
       "  <thead>\n",
       "    <tr style=\"text-align: right;\">\n",
       "      <th></th>\n",
       "      <th>price</th>\n",
       "      <th>yearOfRegistration</th>\n",
       "      <th>powerPS</th>\n",
       "      <th>kilometer</th>\n",
       "      <th>monthOfRegistration</th>\n",
       "    </tr>\n",
       "  </thead>\n",
       "  <tbody>\n",
       "    <tr>\n",
       "      <th>count</th>\n",
       "      <td>2.680120e+05</td>\n",
       "      <td>268012.000000</td>\n",
       "      <td>268012.000000</td>\n",
       "      <td>268012.000000</td>\n",
       "      <td>268012.000000</td>\n",
       "    </tr>\n",
       "    <tr>\n",
       "      <th>mean</th>\n",
       "      <td>1.670892e+04</td>\n",
       "      <td>2003.183384</td>\n",
       "      <td>126.634039</td>\n",
       "      <td>123957.845171</td>\n",
       "      <td>6.165892</td>\n",
       "    </tr>\n",
       "    <tr>\n",
       "      <th>std</th>\n",
       "      <td>4.166542e+06</td>\n",
       "      <td>6.710427</td>\n",
       "      <td>155.758016</td>\n",
       "      <td>40018.897080</td>\n",
       "      <td>3.478367</td>\n",
       "    </tr>\n",
       "    <tr>\n",
       "      <th>min</th>\n",
       "      <td>0.000000e+00</td>\n",
       "      <td>1910.000000</td>\n",
       "      <td>0.000000</td>\n",
       "      <td>5000.000000</td>\n",
       "      <td>0.000000</td>\n",
       "    </tr>\n",
       "    <tr>\n",
       "      <th>25%</th>\n",
       "      <td>1.500000e+03</td>\n",
       "      <td>1999.000000</td>\n",
       "      <td>77.000000</td>\n",
       "      <td>100000.000000</td>\n",
       "      <td>3.000000</td>\n",
       "    </tr>\n",
       "    <tr>\n",
       "      <th>50%</th>\n",
       "      <td>3.800000e+03</td>\n",
       "      <td>2004.000000</td>\n",
       "      <td>116.000000</td>\n",
       "      <td>150000.000000</td>\n",
       "      <td>6.000000</td>\n",
       "    </tr>\n",
       "    <tr>\n",
       "      <th>75%</th>\n",
       "      <td>8.600000e+03</td>\n",
       "      <td>2008.000000</td>\n",
       "      <td>150.000000</td>\n",
       "      <td>150000.000000</td>\n",
       "      <td>9.000000</td>\n",
       "    </tr>\n",
       "    <tr>\n",
       "      <th>max</th>\n",
       "      <td>2.147484e+09</td>\n",
       "      <td>2018.000000</td>\n",
       "      <td>20000.000000</td>\n",
       "      <td>150000.000000</td>\n",
       "      <td>12.000000</td>\n",
       "    </tr>\n",
       "  </tbody>\n",
       "</table>\n",
       "</div>"
      ],
      "text/plain": [
       "              price  yearOfRegistration        powerPS      kilometer  \\\n",
       "count  2.680120e+05       268012.000000  268012.000000  268012.000000   \n",
       "mean   1.670892e+04         2003.183384     126.634039  123957.845171   \n",
       "std    4.166542e+06            6.710427     155.758016   40018.897080   \n",
       "min    0.000000e+00         1910.000000       0.000000    5000.000000   \n",
       "25%    1.500000e+03         1999.000000      77.000000  100000.000000   \n",
       "50%    3.800000e+03         2004.000000     116.000000  150000.000000   \n",
       "75%    8.600000e+03         2008.000000     150.000000  150000.000000   \n",
       "max    2.147484e+09         2018.000000   20000.000000  150000.000000   \n",
       "\n",
       "       monthOfRegistration  \n",
       "count        268012.000000  \n",
       "mean              6.165892  \n",
       "std               3.478367  \n",
       "min               0.000000  \n",
       "25%               3.000000  \n",
       "50%               6.000000  \n",
       "75%               9.000000  \n",
       "max              12.000000  "
      ]
     },
     "execution_count": 15,
     "metadata": {},
     "output_type": "execute_result"
    }
   ],
   "source": [
    "dataset.describe()"
   ]
  },
  {
   "cell_type": "markdown",
   "metadata": {},
   "source": [
    "## Getting the count of each and every feature categories"
   ]
  },
  {
   "cell_type": "code",
   "execution_count": 16,
   "metadata": {},
   "outputs": [
    {
     "data": {
      "text/plain": [
       "limousine     78160\n",
       "kleinwagen    60706\n",
       "kombi         54451\n",
       "bus           25501\n",
       "cabrio        19203\n",
       "coupe         15334\n",
       "suv           12675\n",
       "andere         1982\n",
       "Name: vehicleType, dtype: int64"
      ]
     },
     "execution_count": 16,
     "metadata": {},
     "output_type": "execute_result"
    }
   ],
   "source": [
    "dataset['vehicleType'].value_counts()"
   ]
  },
  {
   "cell_type": "code",
   "execution_count": 17,
   "metadata": {},
   "outputs": [
    {
     "data": {
      "text/plain": [
       "manuell      205177\n",
       "automatik     62835\n",
       "Name: gearbox, dtype: int64"
      ]
     },
     "execution_count": 17,
     "metadata": {},
     "output_type": "execute_result"
    }
   ],
   "source": [
    "dataset['gearbox'].value_counts()"
   ]
  },
  {
   "cell_type": "code",
   "execution_count": 18,
   "metadata": {},
   "outputs": [
    {
     "data": {
      "text/plain": [
       "benzin     174476\n",
       "diesel      88461\n",
       "lpg          4184\n",
       "cng           470\n",
       "hybrid        242\n",
       "andere         99\n",
       "elektro        80\n",
       "Name: fuelType, dtype: int64"
      ]
     },
     "execution_count": 18,
     "metadata": {},
     "output_type": "execute_result"
    }
   ],
   "source": [
    "dataset['fuelType'].value_counts()"
   ]
  },
  {
   "cell_type": "code",
   "execution_count": 19,
   "metadata": {},
   "outputs": [
    {
     "data": {
      "text/plain": [
       "volkswagen        55213\n",
       "bmw               30879\n",
       "mercedes_benz     27264\n",
       "opel              26959\n",
       "audi              25122\n",
       "ford              17777\n",
       "renault           11922\n",
       "peugeot            8125\n",
       "fiat               6511\n",
       "seat               5096\n",
       "skoda              4589\n",
       "mazda              4153\n",
       "toyota             3757\n",
       "citroen            3756\n",
       "nissan             3654\n",
       "smart              3424\n",
       "mini               2898\n",
       "hyundai            2860\n",
       "volvo              2619\n",
       "sonstige_autos     2162\n",
       "mitsubishi         2125\n",
       "kia                2009\n",
       "honda              1997\n",
       "porsche            1880\n",
       "alfa_romeo         1740\n",
       "suzuki             1729\n",
       "chevrolet          1386\n",
       "chrysler           1064\n",
       "dacia               733\n",
       "land_rover          638\n",
       "jeep                621\n",
       "subaru              561\n",
       "daihatsu            530\n",
       "jaguar              492\n",
       "saab                426\n",
       "daewoo              351\n",
       "lancia              328\n",
       "rover               288\n",
       "trabant             225\n",
       "lada                149\n",
       "Name: brand, dtype: int64"
      ]
     },
     "execution_count": 19,
     "metadata": {},
     "output_type": "execute_result"
    }
   ],
   "source": [
    "dataset['brand'].value_counts()"
   ]
  },
  {
   "cell_type": "code",
   "execution_count": 20,
   "metadata": {},
   "outputs": [
    {
     "data": {
      "text/plain": [
       "nein    238707\n",
       "ja       29305\n",
       "Name: notRepairedDamage, dtype: int64"
      ]
     },
     "execution_count": 20,
     "metadata": {},
     "output_type": "execute_result"
    }
   ],
   "source": [
    "dataset['notRepairedDamage'].value_counts()"
   ]
  },
  {
   "cell_type": "code",
   "execution_count": 21,
   "metadata": {},
   "outputs": [],
   "source": [
    "dataset = dataset[[\"vehicleType\",\"yearOfRegistration\",\"gearbox\",\"powerPS\",\"kilometer\",\"monthOfRegistration\",\"fuelType\",\"brand\",\"notRepairedDamage\",\"price\"]]"
   ]
  },
  {
   "cell_type": "code",
   "execution_count": 22,
   "metadata": {
    "scrolled": true
   },
   "outputs": [
    {
     "data": {
      "text/html": [
       "<div>\n",
       "<style scoped>\n",
       "    .dataframe tbody tr th:only-of-type {\n",
       "        vertical-align: middle;\n",
       "    }\n",
       "\n",
       "    .dataframe tbody tr th {\n",
       "        vertical-align: top;\n",
       "    }\n",
       "\n",
       "    .dataframe thead th {\n",
       "        text-align: right;\n",
       "    }\n",
       "</style>\n",
       "<table border=\"1\" class=\"dataframe\">\n",
       "  <thead>\n",
       "    <tr style=\"text-align: right;\">\n",
       "      <th></th>\n",
       "      <th>vehicleType</th>\n",
       "      <th>yearOfRegistration</th>\n",
       "      <th>gearbox</th>\n",
       "      <th>powerPS</th>\n",
       "      <th>kilometer</th>\n",
       "      <th>monthOfRegistration</th>\n",
       "      <th>fuelType</th>\n",
       "      <th>brand</th>\n",
       "      <th>notRepairedDamage</th>\n",
       "      <th>price</th>\n",
       "    </tr>\n",
       "  </thead>\n",
       "  <tbody>\n",
       "    <tr>\n",
       "      <th>1</th>\n",
       "      <td>coupe</td>\n",
       "      <td>2011</td>\n",
       "      <td>manuell</td>\n",
       "      <td>190</td>\n",
       "      <td>125000</td>\n",
       "      <td>5</td>\n",
       "      <td>diesel</td>\n",
       "      <td>audi</td>\n",
       "      <td>ja</td>\n",
       "      <td>18300</td>\n",
       "    </tr>\n",
       "    <tr>\n",
       "      <th>3</th>\n",
       "      <td>kleinwagen</td>\n",
       "      <td>2001</td>\n",
       "      <td>manuell</td>\n",
       "      <td>75</td>\n",
       "      <td>150000</td>\n",
       "      <td>6</td>\n",
       "      <td>benzin</td>\n",
       "      <td>volkswagen</td>\n",
       "      <td>nein</td>\n",
       "      <td>1500</td>\n",
       "    </tr>\n",
       "    <tr>\n",
       "      <th>4</th>\n",
       "      <td>kleinwagen</td>\n",
       "      <td>2008</td>\n",
       "      <td>manuell</td>\n",
       "      <td>69</td>\n",
       "      <td>90000</td>\n",
       "      <td>7</td>\n",
       "      <td>diesel</td>\n",
       "      <td>skoda</td>\n",
       "      <td>nein</td>\n",
       "      <td>3600</td>\n",
       "    </tr>\n",
       "    <tr>\n",
       "      <th>5</th>\n",
       "      <td>limousine</td>\n",
       "      <td>1995</td>\n",
       "      <td>manuell</td>\n",
       "      <td>102</td>\n",
       "      <td>150000</td>\n",
       "      <td>10</td>\n",
       "      <td>benzin</td>\n",
       "      <td>bmw</td>\n",
       "      <td>ja</td>\n",
       "      <td>650</td>\n",
       "    </tr>\n",
       "    <tr>\n",
       "      <th>6</th>\n",
       "      <td>cabrio</td>\n",
       "      <td>2004</td>\n",
       "      <td>manuell</td>\n",
       "      <td>109</td>\n",
       "      <td>150000</td>\n",
       "      <td>8</td>\n",
       "      <td>benzin</td>\n",
       "      <td>peugeot</td>\n",
       "      <td>nein</td>\n",
       "      <td>2200</td>\n",
       "    </tr>\n",
       "    <tr>\n",
       "      <th>...</th>\n",
       "      <td>...</td>\n",
       "      <td>...</td>\n",
       "      <td>...</td>\n",
       "      <td>...</td>\n",
       "      <td>...</td>\n",
       "      <td>...</td>\n",
       "      <td>...</td>\n",
       "      <td>...</td>\n",
       "      <td>...</td>\n",
       "      <td>...</td>\n",
       "    </tr>\n",
       "    <tr>\n",
       "      <th>371520</th>\n",
       "      <td>limousine</td>\n",
       "      <td>2004</td>\n",
       "      <td>manuell</td>\n",
       "      <td>225</td>\n",
       "      <td>150000</td>\n",
       "      <td>5</td>\n",
       "      <td>benzin</td>\n",
       "      <td>seat</td>\n",
       "      <td>ja</td>\n",
       "      <td>3200</td>\n",
       "    </tr>\n",
       "    <tr>\n",
       "      <th>371521</th>\n",
       "      <td>bus</td>\n",
       "      <td>2000</td>\n",
       "      <td>manuell</td>\n",
       "      <td>0</td>\n",
       "      <td>150000</td>\n",
       "      <td>3</td>\n",
       "      <td>benzin</td>\n",
       "      <td>opel</td>\n",
       "      <td>nein</td>\n",
       "      <td>1150</td>\n",
       "    </tr>\n",
       "    <tr>\n",
       "      <th>371524</th>\n",
       "      <td>cabrio</td>\n",
       "      <td>2000</td>\n",
       "      <td>automatik</td>\n",
       "      <td>101</td>\n",
       "      <td>125000</td>\n",
       "      <td>3</td>\n",
       "      <td>benzin</td>\n",
       "      <td>smart</td>\n",
       "      <td>nein</td>\n",
       "      <td>1199</td>\n",
       "    </tr>\n",
       "    <tr>\n",
       "      <th>371525</th>\n",
       "      <td>bus</td>\n",
       "      <td>1996</td>\n",
       "      <td>manuell</td>\n",
       "      <td>102</td>\n",
       "      <td>150000</td>\n",
       "      <td>3</td>\n",
       "      <td>diesel</td>\n",
       "      <td>volkswagen</td>\n",
       "      <td>nein</td>\n",
       "      <td>9200</td>\n",
       "    </tr>\n",
       "    <tr>\n",
       "      <th>371527</th>\n",
       "      <td>limousine</td>\n",
       "      <td>2013</td>\n",
       "      <td>manuell</td>\n",
       "      <td>320</td>\n",
       "      <td>50000</td>\n",
       "      <td>8</td>\n",
       "      <td>benzin</td>\n",
       "      <td>bmw</td>\n",
       "      <td>nein</td>\n",
       "      <td>28990</td>\n",
       "    </tr>\n",
       "  </tbody>\n",
       "</table>\n",
       "<p>268012 rows × 10 columns</p>\n",
       "</div>"
      ],
      "text/plain": [
       "       vehicleType  yearOfRegistration    gearbox  powerPS  kilometer  \\\n",
       "1            coupe                2011    manuell      190     125000   \n",
       "3       kleinwagen                2001    manuell       75     150000   \n",
       "4       kleinwagen                2008    manuell       69      90000   \n",
       "5        limousine                1995    manuell      102     150000   \n",
       "6           cabrio                2004    manuell      109     150000   \n",
       "...            ...                 ...        ...      ...        ...   \n",
       "371520   limousine                2004    manuell      225     150000   \n",
       "371521         bus                2000    manuell        0     150000   \n",
       "371524      cabrio                2000  automatik      101     125000   \n",
       "371525         bus                1996    manuell      102     150000   \n",
       "371527   limousine                2013    manuell      320      50000   \n",
       "\n",
       "        monthOfRegistration fuelType       brand notRepairedDamage  price  \n",
       "1                         5   diesel        audi                ja  18300  \n",
       "3                         6   benzin  volkswagen              nein   1500  \n",
       "4                         7   diesel       skoda              nein   3600  \n",
       "5                        10   benzin         bmw                ja    650  \n",
       "6                         8   benzin     peugeot              nein   2200  \n",
       "...                     ...      ...         ...               ...    ...  \n",
       "371520                    5   benzin        seat                ja   3200  \n",
       "371521                    3   benzin        opel              nein   1150  \n",
       "371524                    3   benzin       smart              nein   1199  \n",
       "371525                    3   diesel  volkswagen              nein   9200  \n",
       "371527                    8   benzin         bmw              nein  28990  \n",
       "\n",
       "[268012 rows x 10 columns]"
      ]
     },
     "execution_count": 22,
     "metadata": {},
     "output_type": "execute_result"
    }
   ],
   "source": [
    "dataset"
   ]
  },
  {
   "cell_type": "markdown",
   "metadata": {},
   "source": [
    "## Data Visualization"
   ]
  },
  {
   "cell_type": "code",
   "execution_count": 23,
   "metadata": {},
   "outputs": [
    {
     "data": {
      "text/plain": [
       "<matplotlib.axes._subplots.AxesSubplot at 0x1fd6d8a54f0>"
      ]
     },
     "execution_count": 23,
     "metadata": {},
     "output_type": "execute_result"
    },
    {
     "data": {
      "image/png": "[encoded data removed]",
      "text/plain": [
       "<Figure size 576x288 with 1 Axes>"
      ]
     },
     "metadata": {
      "needs_background": "light"
     },
     "output_type": "display_data"
    }
   ],
   "source": [
    "plt.rcParams['figure.figsize']=(8,4)\n",
    "sns.countplot(dataset['vehicleType']) "
   ]
  },
  {
   "cell_type": "code",
   "execution_count": 24,
   "metadata": {},
   "outputs": [
    {
     "data": {
      "text/plain": [
       "<matplotlib.axes._subplots.AxesSubplot at 0x1fd70c33a00>"
      ]
     },
     "execution_count": 24,
     "metadata": {},
     "output_type": "execute_result"
    },
    {
     "data": {
      "image/png": "[encoded data removed]",
      "text/plain": [
       "<Figure size 576x288 with 1 Axes>"
      ]
     },
     "metadata": {
      "needs_background": "light"
     },
     "output_type": "display_data"
    }
   ],
   "source": [
    "sns.countplot(dataset['gearbox']) "
   ]
  },
  {
   "cell_type": "code",
   "execution_count": 25,
   "metadata": {},
   "outputs": [
    {
     "data": {
      "text/plain": [
       "<matplotlib.axes._subplots.AxesSubplot at 0x1fd001c5c70>"
      ]
     },
     "execution_count": 25,
     "metadata": {},
     "output_type": "execute_result"
    },
    {
     "data": {
      "image/png": "[encoded data removed]",
      "text/plain": [
       "<Figure size 576x288 with 1 Axes>"
      ]
     },
     "metadata": {
      "needs_background": "light"
     },
     "output_type": "display_data"
    }
   ],
   "source": [
    "sns.countplot(dataset['fuelType']) "
   ]
  },
  {
   "cell_type": "code",
   "execution_count": 26,
   "metadata": {},
   "outputs": [
    {
     "data": {
      "text/plain": [
       "<matplotlib.axes._subplots.AxesSubplot at 0x1fd000231c0>"
      ]
     },
     "execution_count": 26,
     "metadata": {},
     "output_type": "execute_result"
    },
    {
     "data": {
      "image/png": "[encoded data removed]",
      "text/plain": [
       "<Figure size 2160x576 with 1 Axes>"
      ]
     },
     "metadata": {
      "needs_background": "light"
     },
     "output_type": "display_data"
    }
   ],
   "source": [
    "plt.rcParams['figure.figsize']=(30,8)\n",
    "sns.countplot(dataset['brand'])  "
   ]
  },
  {
   "cell_type": "code",
   "execution_count": 27,
   "metadata": {},
   "outputs": [
    {
     "data": {
      "text/plain": [
       "<matplotlib.axes._subplots.AxesSubplot at 0x1fd0010dc40>"
      ]
     },
     "execution_count": 27,
     "metadata": {},
     "output_type": "execute_result"
    },
    {
     "data": {
      "image/png": "[encoded data removed]",
      "text/plain": [
       "<Figure size 432x288 with 1 Axes>"
      ]
     },
     "metadata": {
      "needs_background": "light"
     },
     "output_type": "display_data"
    }
   ],
   "source": [
    "plt.rcParams['figure.figsize']=(6,4)\n",
    "sns.countplot(dataset['notRepairedDamage']) "
   ]
  },
  {
   "cell_type": "code",
   "execution_count": 28,
   "metadata": {},
   "outputs": [
    {
     "data": {
      "text/plain": [
       "array([[<matplotlib.axes._subplots.AxesSubplot object at 0x000001FD001F6760>,\n",
       "        <matplotlib.axes._subplots.AxesSubplot object at 0x000001FD00221C10>,\n",
       "        <matplotlib.axes._subplots.AxesSubplot object at 0x000001FD0024D100>,\n",
       "        <matplotlib.axes._subplots.AxesSubplot object at 0x000001FD002884F0>],\n",
       "       [<matplotlib.axes._subplots.AxesSubplot object at 0x000001FD002B6940>,\n",
       "        <matplotlib.axes._subplots.AxesSubplot object at 0x000001FD6D8CFFA0>,\n",
       "        <matplotlib.axes._subplots.AxesSubplot object at 0x000001FD6D8CF9D0>,\n",
       "        <matplotlib.axes._subplots.AxesSubplot object at 0x000001FD00107760>],\n",
       "       [<matplotlib.axes._subplots.AxesSubplot object at 0x000001FD003BC970>,\n",
       "        <matplotlib.axes._subplots.AxesSubplot object at 0x000001FD003E8DC0>,\n",
       "        <matplotlib.axes._subplots.AxesSubplot object at 0x000001FD00422250>,\n",
       "        <matplotlib.axes._subplots.AxesSubplot object at 0x000001FD004506A0>],\n",
       "       [<matplotlib.axes._subplots.AxesSubplot object at 0x000001FD0047DAF0>,\n",
       "        <matplotlib.axes._subplots.AxesSubplot object at 0x000001FD004AAF40>,\n",
       "        <matplotlib.axes._subplots.AxesSubplot object at 0x000001FD004E33D0>,\n",
       "        <matplotlib.axes._subplots.AxesSubplot object at 0x000001FD0050F820>]],\n",
       "      dtype=object)"
      ]
     },
     "execution_count": 28,
     "metadata": {},
     "output_type": "execute_result"
    },
    {
     "data": {
      "image/png": "[encoded data removed]",
      "text/plain": [
       "<Figure size 864x576 with 16 Axes>"
      ]
     },
     "metadata": {
      "needs_background": "light"
     },
     "output_type": "display_data"
    }
   ],
   "source": [
    "from pandas.plotting import scatter_matrix #used for plotting numerical values\n",
    "num_attributes = [\"price\", \"yearOfRegistration\", \"powerPS\", \"kilometer\"]\n",
    "%matplotlib inline\n",
    "pd.plotting.scatter_matrix(dataset[num_attributes], figsize = (12,8), alpha = 0.1)"
   ]
  },
  {
   "cell_type": "code",
   "execution_count": 29,
   "metadata": {
    "scrolled": true
   },
   "outputs": [
    {
     "data": {
      "text/html": [
       "<div>\n",
       "<style scoped>\n",
       "    .dataframe tbody tr th:only-of-type {\n",
       "        vertical-align: middle;\n",
       "    }\n",
       "\n",
       "    .dataframe tbody tr th {\n",
       "        vertical-align: top;\n",
       "    }\n",
       "\n",
       "    .dataframe thead th {\n",
       "        text-align: right;\n",
       "    }\n",
       "</style>\n",
       "<table border=\"1\" class=\"dataframe\">\n",
       "  <thead>\n",
       "    <tr style=\"text-align: right;\">\n",
       "      <th></th>\n",
       "      <th>yearOfRegistration</th>\n",
       "      <th>powerPS</th>\n",
       "      <th>kilometer</th>\n",
       "      <th>monthOfRegistration</th>\n",
       "      <th>price</th>\n",
       "    </tr>\n",
       "  </thead>\n",
       "  <tbody>\n",
       "    <tr>\n",
       "      <th>yearOfRegistration</th>\n",
       "      <td>1.000000</td>\n",
       "      <td>0.090961</td>\n",
       "      <td>-0.364613</td>\n",
       "      <td>0.037286</td>\n",
       "      <td>-0.001951</td>\n",
       "    </tr>\n",
       "    <tr>\n",
       "      <th>powerPS</th>\n",
       "      <td>0.090961</td>\n",
       "      <td>1.000000</td>\n",
       "      <td>-0.019411</td>\n",
       "      <td>0.014212</td>\n",
       "      <td>0.010033</td>\n",
       "    </tr>\n",
       "    <tr>\n",
       "      <th>kilometer</th>\n",
       "      <td>-0.364613</td>\n",
       "      <td>-0.019411</td>\n",
       "      <td>1.000000</td>\n",
       "      <td>-0.006689</td>\n",
       "      <td>0.000150</td>\n",
       "    </tr>\n",
       "    <tr>\n",
       "      <th>monthOfRegistration</th>\n",
       "      <td>0.037286</td>\n",
       "      <td>0.014212</td>\n",
       "      <td>-0.006689</td>\n",
       "      <td>1.000000</td>\n",
       "      <td>-0.002426</td>\n",
       "    </tr>\n",
       "    <tr>\n",
       "      <th>price</th>\n",
       "      <td>-0.001951</td>\n",
       "      <td>0.010033</td>\n",
       "      <td>0.000150</td>\n",
       "      <td>-0.002426</td>\n",
       "      <td>1.000000</td>\n",
       "    </tr>\n",
       "  </tbody>\n",
       "</table>\n",
       "</div>"
      ],
      "text/plain": [
       "                     yearOfRegistration   powerPS  kilometer  \\\n",
       "yearOfRegistration             1.000000  0.090961  -0.364613   \n",
       "powerPS                        0.090961  1.000000  -0.019411   \n",
       "kilometer                     -0.364613 -0.019411   1.000000   \n",
       "monthOfRegistration            0.037286  0.014212  -0.006689   \n",
       "price                         -0.001951  0.010033   0.000150   \n",
       "\n",
       "                     monthOfRegistration     price  \n",
       "yearOfRegistration              0.037286 -0.001951  \n",
       "powerPS                         0.014212  0.010033  \n",
       "kilometer                      -0.006689  0.000150  \n",
       "monthOfRegistration             1.000000 -0.002426  \n",
       "price                          -0.002426  1.000000  "
      ]
     },
     "execution_count": 29,
     "metadata": {},
     "output_type": "execute_result"
    }
   ],
   "source": [
    "dataset.corr()"
   ]
  },
  {
   "cell_type": "markdown",
   "metadata": {},
   "source": [
    "## Find outliers using IQR Score(i.e. IQR=Q3-Q1) and removing them"
   ]
  },
  {
   "cell_type": "code",
   "execution_count": 30,
   "metadata": {},
   "outputs": [
    {
     "data": {
      "text/html": [
       "<div>\n",
       "<style scoped>\n",
       "    .dataframe tbody tr th:only-of-type {\n",
       "        vertical-align: middle;\n",
       "    }\n",
       "\n",
       "    .dataframe tbody tr th {\n",
       "        vertical-align: top;\n",
       "    }\n",
       "\n",
       "    .dataframe thead th {\n",
       "        text-align: right;\n",
       "    }\n",
       "</style>\n",
       "<table border=\"1\" class=\"dataframe\">\n",
       "  <thead>\n",
       "    <tr style=\"text-align: right;\">\n",
       "      <th></th>\n",
       "      <th>vehicleType</th>\n",
       "      <th>yearOfRegistration</th>\n",
       "      <th>gearbox</th>\n",
       "      <th>powerPS</th>\n",
       "      <th>kilometer</th>\n",
       "      <th>monthOfRegistration</th>\n",
       "      <th>fuelType</th>\n",
       "      <th>brand</th>\n",
       "      <th>notRepairedDamage</th>\n",
       "      <th>price</th>\n",
       "    </tr>\n",
       "  </thead>\n",
       "  <tbody>\n",
       "    <tr>\n",
       "      <th>1</th>\n",
       "      <td>coupe</td>\n",
       "      <td>2011</td>\n",
       "      <td>manuell</td>\n",
       "      <td>190</td>\n",
       "      <td>125000</td>\n",
       "      <td>5</td>\n",
       "      <td>diesel</td>\n",
       "      <td>audi</td>\n",
       "      <td>ja</td>\n",
       "      <td>18300</td>\n",
       "    </tr>\n",
       "    <tr>\n",
       "      <th>3</th>\n",
       "      <td>kleinwagen</td>\n",
       "      <td>2001</td>\n",
       "      <td>manuell</td>\n",
       "      <td>75</td>\n",
       "      <td>150000</td>\n",
       "      <td>6</td>\n",
       "      <td>benzin</td>\n",
       "      <td>volkswagen</td>\n",
       "      <td>nein</td>\n",
       "      <td>1500</td>\n",
       "    </tr>\n",
       "    <tr>\n",
       "      <th>4</th>\n",
       "      <td>kleinwagen</td>\n",
       "      <td>2008</td>\n",
       "      <td>manuell</td>\n",
       "      <td>69</td>\n",
       "      <td>90000</td>\n",
       "      <td>7</td>\n",
       "      <td>diesel</td>\n",
       "      <td>skoda</td>\n",
       "      <td>nein</td>\n",
       "      <td>3600</td>\n",
       "    </tr>\n",
       "    <tr>\n",
       "      <th>5</th>\n",
       "      <td>limousine</td>\n",
       "      <td>1995</td>\n",
       "      <td>manuell</td>\n",
       "      <td>102</td>\n",
       "      <td>150000</td>\n",
       "      <td>10</td>\n",
       "      <td>benzin</td>\n",
       "      <td>bmw</td>\n",
       "      <td>ja</td>\n",
       "      <td>650</td>\n",
       "    </tr>\n",
       "    <tr>\n",
       "      <th>6</th>\n",
       "      <td>cabrio</td>\n",
       "      <td>2004</td>\n",
       "      <td>manuell</td>\n",
       "      <td>109</td>\n",
       "      <td>150000</td>\n",
       "      <td>8</td>\n",
       "      <td>benzin</td>\n",
       "      <td>peugeot</td>\n",
       "      <td>nein</td>\n",
       "      <td>2200</td>\n",
       "    </tr>\n",
       "    <tr>\n",
       "      <th>...</th>\n",
       "      <td>...</td>\n",
       "      <td>...</td>\n",
       "      <td>...</td>\n",
       "      <td>...</td>\n",
       "      <td>...</td>\n",
       "      <td>...</td>\n",
       "      <td>...</td>\n",
       "      <td>...</td>\n",
       "      <td>...</td>\n",
       "      <td>...</td>\n",
       "    </tr>\n",
       "    <tr>\n",
       "      <th>371518</th>\n",
       "      <td>kombi</td>\n",
       "      <td>2005</td>\n",
       "      <td>manuell</td>\n",
       "      <td>3</td>\n",
       "      <td>150000</td>\n",
       "      <td>5</td>\n",
       "      <td>diesel</td>\n",
       "      <td>bmw</td>\n",
       "      <td>nein</td>\n",
       "      <td>3999</td>\n",
       "    </tr>\n",
       "    <tr>\n",
       "      <th>371520</th>\n",
       "      <td>limousine</td>\n",
       "      <td>2004</td>\n",
       "      <td>manuell</td>\n",
       "      <td>225</td>\n",
       "      <td>150000</td>\n",
       "      <td>5</td>\n",
       "      <td>benzin</td>\n",
       "      <td>seat</td>\n",
       "      <td>ja</td>\n",
       "      <td>3200</td>\n",
       "    </tr>\n",
       "    <tr>\n",
       "      <th>371521</th>\n",
       "      <td>bus</td>\n",
       "      <td>2000</td>\n",
       "      <td>manuell</td>\n",
       "      <td>0</td>\n",
       "      <td>150000</td>\n",
       "      <td>3</td>\n",
       "      <td>benzin</td>\n",
       "      <td>opel</td>\n",
       "      <td>nein</td>\n",
       "      <td>1150</td>\n",
       "    </tr>\n",
       "    <tr>\n",
       "      <th>371524</th>\n",
       "      <td>cabrio</td>\n",
       "      <td>2000</td>\n",
       "      <td>automatik</td>\n",
       "      <td>101</td>\n",
       "      <td>125000</td>\n",
       "      <td>3</td>\n",
       "      <td>benzin</td>\n",
       "      <td>smart</td>\n",
       "      <td>nein</td>\n",
       "      <td>1199</td>\n",
       "    </tr>\n",
       "    <tr>\n",
       "      <th>371525</th>\n",
       "      <td>bus</td>\n",
       "      <td>1996</td>\n",
       "      <td>manuell</td>\n",
       "      <td>102</td>\n",
       "      <td>150000</td>\n",
       "      <td>3</td>\n",
       "      <td>diesel</td>\n",
       "      <td>volkswagen</td>\n",
       "      <td>nein</td>\n",
       "      <td>9200</td>\n",
       "    </tr>\n",
       "  </tbody>\n",
       "</table>\n",
       "<p>236513 rows × 10 columns</p>\n",
       "</div>"
      ],
      "text/plain": [
       "       vehicleType  yearOfRegistration    gearbox  powerPS  kilometer  \\\n",
       "1            coupe                2011    manuell      190     125000   \n",
       "3       kleinwagen                2001    manuell       75     150000   \n",
       "4       kleinwagen                2008    manuell       69      90000   \n",
       "5        limousine                1995    manuell      102     150000   \n",
       "6           cabrio                2004    manuell      109     150000   \n",
       "...            ...                 ...        ...      ...        ...   \n",
       "371518       kombi                2005    manuell        3     150000   \n",
       "371520   limousine                2004    manuell      225     150000   \n",
       "371521         bus                2000    manuell        0     150000   \n",
       "371524      cabrio                2000  automatik      101     125000   \n",
       "371525         bus                1996    manuell      102     150000   \n",
       "\n",
       "        monthOfRegistration fuelType       brand notRepairedDamage  price  \n",
       "1                         5   diesel        audi                ja  18300  \n",
       "3                         6   benzin  volkswagen              nein   1500  \n",
       "4                         7   diesel       skoda              nein   3600  \n",
       "5                        10   benzin         bmw                ja    650  \n",
       "6                         8   benzin     peugeot              nein   2200  \n",
       "...                     ...      ...         ...               ...    ...  \n",
       "371518                    5   diesel         bmw              nein   3999  \n",
       "371520                    5   benzin        seat                ja   3200  \n",
       "371521                    3   benzin        opel              nein   1150  \n",
       "371524                    3   benzin       smart              nein   1199  \n",
       "371525                    3   diesel  volkswagen              nein   9200  \n",
       "\n",
       "[236513 rows x 10 columns]"
      ]
     },
     "execution_count": 30,
     "metadata": {},
     "output_type": "execute_result"
    }
   ],
   "source": [
    "Q1=dataset.quantile(0.25)\n",
    "Q3=dataset.quantile(0.75)\n",
    "IQR=Q3-Q1\n",
    "dataset= dataset[~((dataset<(Q1-1.5*IQR))|(dataset>(Q3 + 1.5*IQR))).any(axis=1)]\n",
    "dataset"
   ]
  },
  {
   "cell_type": "markdown",
   "metadata": {},
   "source": [
    "## Finding the Correlation"
   ]
  },
  {
   "cell_type": "code",
   "execution_count": 31,
   "metadata": {},
   "outputs": [
    {
     "data": {
      "text/html": [
       "<div>\n",
       "<style scoped>\n",
       "    .dataframe tbody tr th:only-of-type {\n",
       "        vertical-align: middle;\n",
       "    }\n",
       "\n",
       "    .dataframe tbody tr th {\n",
       "        vertical-align: top;\n",
       "    }\n",
       "\n",
       "    .dataframe thead th {\n",
       "        text-align: right;\n",
       "    }\n",
       "</style>\n",
       "<table border=\"1\" class=\"dataframe\">\n",
       "  <thead>\n",
       "    <tr style=\"text-align: right;\">\n",
       "      <th></th>\n",
       "      <th>yearOfRegistration</th>\n",
       "      <th>powerPS</th>\n",
       "      <th>kilometer</th>\n",
       "      <th>monthOfRegistration</th>\n",
       "      <th>price</th>\n",
       "    </tr>\n",
       "  </thead>\n",
       "  <tbody>\n",
       "    <tr>\n",
       "      <th>yearOfRegistration</th>\n",
       "      <td>1.000000</td>\n",
       "      <td>0.200379</td>\n",
       "      <td>-0.448474</td>\n",
       "      <td>0.030236</td>\n",
       "      <td>0.670762</td>\n",
       "    </tr>\n",
       "    <tr>\n",
       "      <th>powerPS</th>\n",
       "      <td>0.200379</td>\n",
       "      <td>1.000000</td>\n",
       "      <td>0.078393</td>\n",
       "      <td>0.047560</td>\n",
       "      <td>0.486651</td>\n",
       "    </tr>\n",
       "    <tr>\n",
       "      <th>kilometer</th>\n",
       "      <td>-0.448474</td>\n",
       "      <td>0.078393</td>\n",
       "      <td>1.000000</td>\n",
       "      <td>-0.018012</td>\n",
       "      <td>-0.413977</td>\n",
       "    </tr>\n",
       "    <tr>\n",
       "      <th>monthOfRegistration</th>\n",
       "      <td>0.030236</td>\n",
       "      <td>0.047560</td>\n",
       "      <td>-0.018012</td>\n",
       "      <td>1.000000</td>\n",
       "      <td>0.048710</td>\n",
       "    </tr>\n",
       "    <tr>\n",
       "      <th>price</th>\n",
       "      <td>0.670762</td>\n",
       "      <td>0.486651</td>\n",
       "      <td>-0.413977</td>\n",
       "      <td>0.048710</td>\n",
       "      <td>1.000000</td>\n",
       "    </tr>\n",
       "  </tbody>\n",
       "</table>\n",
       "</div>"
      ],
      "text/plain": [
       "                     yearOfRegistration   powerPS  kilometer  \\\n",
       "yearOfRegistration             1.000000  0.200379  -0.448474   \n",
       "powerPS                        0.200379  1.000000   0.078393   \n",
       "kilometer                     -0.448474  0.078393   1.000000   \n",
       "monthOfRegistration            0.030236  0.047560  -0.018012   \n",
       "price                          0.670762  0.486651  -0.413977   \n",
       "\n",
       "                     monthOfRegistration     price  \n",
       "yearOfRegistration              0.030236  0.670762  \n",
       "powerPS                         0.047560  0.486651  \n",
       "kilometer                      -0.018012 -0.413977  \n",
       "monthOfRegistration             1.000000  0.048710  \n",
       "price                           0.048710  1.000000  "
      ]
     },
     "execution_count": 31,
     "metadata": {},
     "output_type": "execute_result"
    }
   ],
   "source": [
    "dataset.corr()"
   ]
  },
  {
   "cell_type": "code",
   "execution_count": 32,
   "metadata": {},
   "outputs": [
    {
     "data": {
      "image/png": "[encoded data removed]",
      "text/plain": [
       "<Figure size 2160x1800 with 2 Axes>"
      ]
     },
     "metadata": {
      "needs_background": "light"
     },
     "output_type": "display_data"
    }
   ],
   "source": [
    "plt.figure(figsize=(30, 25))\n",
    "p = sns.heatmap(dataset.corr(), annot=True)"
   ]
  },
  {
   "cell_type": "code",
   "execution_count": 33,
   "metadata": {},
   "outputs": [
    {
     "data": {
      "text/plain": [
       "monthOfRegistration    0.048710\n",
       "kilometer              0.413977\n",
       "powerPS                0.486651\n",
       "yearOfRegistration     0.670762\n",
       "price                  1.000000\n",
       "Name: price, dtype: float64"
      ]
     },
     "execution_count": 33,
     "metadata": {},
     "output_type": "execute_result"
    }
   ],
   "source": [
    "PRICE = dataset.corr()['price']\n",
    "PRICE = abs(PRICE).sort_values()\n",
    "PRICE"
   ]
  },
  {
   "cell_type": "code",
   "execution_count": 34,
   "metadata": {},
   "outputs": [
    {
     "data": {
      "text/plain": [
       "(236513, 10)"
      ]
     },
     "execution_count": 34,
     "metadata": {},
     "output_type": "execute_result"
    }
   ],
   "source": [
    "dataset.shape"
   ]
  },
  {
   "cell_type": "markdown",
   "metadata": {},
   "source": [
    "## Clean Dataset"
   ]
  },
  {
   "cell_type": "code",
   "execution_count": 35,
   "metadata": {},
   "outputs": [
    {
     "data": {
      "text/html": [
       "<div>\n",
       "<style scoped>\n",
       "    .dataframe tbody tr th:only-of-type {\n",
       "        vertical-align: middle;\n",
       "    }\n",
       "\n",
       "    .dataframe tbody tr th {\n",
       "        vertical-align: top;\n",
       "    }\n",
       "\n",
       "    .dataframe thead th {\n",
       "        text-align: right;\n",
       "    }\n",
       "</style>\n",
       "<table border=\"1\" class=\"dataframe\">\n",
       "  <thead>\n",
       "    <tr style=\"text-align: right;\">\n",
       "      <th></th>\n",
       "      <th>vehicleType</th>\n",
       "      <th>yearOfRegistration</th>\n",
       "      <th>gearbox</th>\n",
       "      <th>powerPS</th>\n",
       "      <th>kilometer</th>\n",
       "      <th>monthOfRegistration</th>\n",
       "      <th>fuelType</th>\n",
       "      <th>brand</th>\n",
       "      <th>notRepairedDamage</th>\n",
       "      <th>price</th>\n",
       "    </tr>\n",
       "  </thead>\n",
       "  <tbody>\n",
       "    <tr>\n",
       "      <th>1</th>\n",
       "      <td>coupe</td>\n",
       "      <td>2011</td>\n",
       "      <td>manuell</td>\n",
       "      <td>190</td>\n",
       "      <td>125000</td>\n",
       "      <td>5</td>\n",
       "      <td>diesel</td>\n",
       "      <td>audi</td>\n",
       "      <td>ja</td>\n",
       "      <td>18300</td>\n",
       "    </tr>\n",
       "    <tr>\n",
       "      <th>3</th>\n",
       "      <td>kleinwagen</td>\n",
       "      <td>2001</td>\n",
       "      <td>manuell</td>\n",
       "      <td>75</td>\n",
       "      <td>150000</td>\n",
       "      <td>6</td>\n",
       "      <td>benzin</td>\n",
       "      <td>volkswagen</td>\n",
       "      <td>nein</td>\n",
       "      <td>1500</td>\n",
       "    </tr>\n",
       "    <tr>\n",
       "      <th>4</th>\n",
       "      <td>kleinwagen</td>\n",
       "      <td>2008</td>\n",
       "      <td>manuell</td>\n",
       "      <td>69</td>\n",
       "      <td>90000</td>\n",
       "      <td>7</td>\n",
       "      <td>diesel</td>\n",
       "      <td>skoda</td>\n",
       "      <td>nein</td>\n",
       "      <td>3600</td>\n",
       "    </tr>\n",
       "    <tr>\n",
       "      <th>5</th>\n",
       "      <td>limousine</td>\n",
       "      <td>1995</td>\n",
       "      <td>manuell</td>\n",
       "      <td>102</td>\n",
       "      <td>150000</td>\n",
       "      <td>10</td>\n",
       "      <td>benzin</td>\n",
       "      <td>bmw</td>\n",
       "      <td>ja</td>\n",
       "      <td>650</td>\n",
       "    </tr>\n",
       "    <tr>\n",
       "      <th>6</th>\n",
       "      <td>cabrio</td>\n",
       "      <td>2004</td>\n",
       "      <td>manuell</td>\n",
       "      <td>109</td>\n",
       "      <td>150000</td>\n",
       "      <td>8</td>\n",
       "      <td>benzin</td>\n",
       "      <td>peugeot</td>\n",
       "      <td>nein</td>\n",
       "      <td>2200</td>\n",
       "    </tr>\n",
       "    <tr>\n",
       "      <th>...</th>\n",
       "      <td>...</td>\n",
       "      <td>...</td>\n",
       "      <td>...</td>\n",
       "      <td>...</td>\n",
       "      <td>...</td>\n",
       "      <td>...</td>\n",
       "      <td>...</td>\n",
       "      <td>...</td>\n",
       "      <td>...</td>\n",
       "      <td>...</td>\n",
       "    </tr>\n",
       "    <tr>\n",
       "      <th>371518</th>\n",
       "      <td>kombi</td>\n",
       "      <td>2005</td>\n",
       "      <td>manuell</td>\n",
       "      <td>3</td>\n",
       "      <td>150000</td>\n",
       "      <td>5</td>\n",
       "      <td>diesel</td>\n",
       "      <td>bmw</td>\n",
       "      <td>nein</td>\n",
       "      <td>3999</td>\n",
       "    </tr>\n",
       "    <tr>\n",
       "      <th>371520</th>\n",
       "      <td>limousine</td>\n",
       "      <td>2004</td>\n",
       "      <td>manuell</td>\n",
       "      <td>225</td>\n",
       "      <td>150000</td>\n",
       "      <td>5</td>\n",
       "      <td>benzin</td>\n",
       "      <td>seat</td>\n",
       "      <td>ja</td>\n",
       "      <td>3200</td>\n",
       "    </tr>\n",
       "    <tr>\n",
       "      <th>371521</th>\n",
       "      <td>bus</td>\n",
       "      <td>2000</td>\n",
       "      <td>manuell</td>\n",
       "      <td>0</td>\n",
       "      <td>150000</td>\n",
       "      <td>3</td>\n",
       "      <td>benzin</td>\n",
       "      <td>opel</td>\n",
       "      <td>nein</td>\n",
       "      <td>1150</td>\n",
       "    </tr>\n",
       "    <tr>\n",
       "      <th>371524</th>\n",
       "      <td>cabrio</td>\n",
       "      <td>2000</td>\n",
       "      <td>automatik</td>\n",
       "      <td>101</td>\n",
       "      <td>125000</td>\n",
       "      <td>3</td>\n",
       "      <td>benzin</td>\n",
       "      <td>smart</td>\n",
       "      <td>nein</td>\n",
       "      <td>1199</td>\n",
       "    </tr>\n",
       "    <tr>\n",
       "      <th>371525</th>\n",
       "      <td>bus</td>\n",
       "      <td>1996</td>\n",
       "      <td>manuell</td>\n",
       "      <td>102</td>\n",
       "      <td>150000</td>\n",
       "      <td>3</td>\n",
       "      <td>diesel</td>\n",
       "      <td>volkswagen</td>\n",
       "      <td>nein</td>\n",
       "      <td>9200</td>\n",
       "    </tr>\n",
       "  </tbody>\n",
       "</table>\n",
       "<p>236513 rows × 10 columns</p>\n",
       "</div>"
      ],
      "text/plain": [
       "       vehicleType  yearOfRegistration    gearbox  powerPS  kilometer  \\\n",
       "1            coupe                2011    manuell      190     125000   \n",
       "3       kleinwagen                2001    manuell       75     150000   \n",
       "4       kleinwagen                2008    manuell       69      90000   \n",
       "5        limousine                1995    manuell      102     150000   \n",
       "6           cabrio                2004    manuell      109     150000   \n",
       "...            ...                 ...        ...      ...        ...   \n",
       "371518       kombi                2005    manuell        3     150000   \n",
       "371520   limousine                2004    manuell      225     150000   \n",
       "371521         bus                2000    manuell        0     150000   \n",
       "371524      cabrio                2000  automatik      101     125000   \n",
       "371525         bus                1996    manuell      102     150000   \n",
       "\n",
       "        monthOfRegistration fuelType       brand notRepairedDamage  price  \n",
       "1                         5   diesel        audi                ja  18300  \n",
       "3                         6   benzin  volkswagen              nein   1500  \n",
       "4                         7   diesel       skoda              nein   3600  \n",
       "5                        10   benzin         bmw                ja    650  \n",
       "6                         8   benzin     peugeot              nein   2200  \n",
       "...                     ...      ...         ...               ...    ...  \n",
       "371518                    5   diesel         bmw              nein   3999  \n",
       "371520                    5   benzin        seat                ja   3200  \n",
       "371521                    3   benzin        opel              nein   1150  \n",
       "371524                    3   benzin       smart              nein   1199  \n",
       "371525                    3   diesel  volkswagen              nein   9200  \n",
       "\n",
       "[236513 rows x 10 columns]"
      ]
     },
     "execution_count": 35,
     "metadata": {},
     "output_type": "execute_result"
    }
   ],
   "source": [
    "dataset"
   ]
  },
  {
   "cell_type": "code",
   "execution_count": 36,
   "metadata": {},
   "outputs": [
    {
     "data": {
      "text/plain": [
       "(236513, 10)"
      ]
     },
     "execution_count": 36,
     "metadata": {},
     "output_type": "execute_result"
    }
   ],
   "source": [
    "dataset.shape"
   ]
  },
  {
   "cell_type": "markdown",
   "metadata": {},
   "source": [
    "## Seperating Independent and Dependent Variables"
   ]
  },
  {
   "cell_type": "code",
   "execution_count": 37,
   "metadata": {},
   "outputs": [
    {
     "data": {
      "text/plain": [
       "array([['coupe', 2011, 'manuell', ..., 'diesel', 'audi', 'ja'],\n",
       "       ['kleinwagen', 2001, 'manuell', ..., 'benzin', 'volkswagen',\n",
       "        'nein'],\n",
       "       ['kleinwagen', 2008, 'manuell', ..., 'diesel', 'skoda', 'nein'],\n",
       "       ...,\n",
       "       ['bus', 2000, 'manuell', ..., 'benzin', 'opel', 'nein'],\n",
       "       ['cabrio', 2000, 'automatik', ..., 'benzin', 'smart', 'nein'],\n",
       "       ['bus', 1996, 'manuell', ..., 'diesel', 'volkswagen', 'nein']],\n",
       "      dtype=object)"
      ]
     },
     "execution_count": 37,
     "metadata": {},
     "output_type": "execute_result"
    }
   ],
   "source": [
    "x=dataset.iloc[:,0:-1].values\n",
    "x"
   ]
  },
  {
   "cell_type": "code",
   "execution_count": 38,
   "metadata": {},
   "outputs": [
    {
     "data": {
      "text/plain": [
       "(236513, 9)"
      ]
     },
     "execution_count": 38,
     "metadata": {},
     "output_type": "execute_result"
    }
   ],
   "source": [
    "x.shape"
   ]
  },
  {
   "cell_type": "code",
   "execution_count": 39,
   "metadata": {},
   "outputs": [
    {
     "data": {
      "text/plain": [
       "array([18300,  1500,  3600, ...,  1150,  1199,  9200], dtype=int64)"
      ]
     },
     "execution_count": 39,
     "metadata": {},
     "output_type": "execute_result"
    }
   ],
   "source": [
    "y=dataset.iloc[:,-1].values\n",
    "y"
   ]
  },
  {
   "cell_type": "code",
   "execution_count": 40,
   "metadata": {},
   "outputs": [
    {
     "data": {
      "text/plain": [
       "(236513,)"
      ]
     },
     "execution_count": 40,
     "metadata": {},
     "output_type": "execute_result"
    }
   ],
   "source": [
    "y.shape"
   ]
  },
  {
   "cell_type": "markdown",
   "metadata": {},
   "source": [
    "## Applying One-hot Encoding on Categorical Variables"
   ]
  },
  {
   "cell_type": "code",
   "execution_count": 41,
   "metadata": {},
   "outputs": [
    {
     "data": {
      "text/plain": [
       "array(['coupe', 2011, 'manuell', 190, 125000, 5, 'diesel', 'audi', 'ja'],\n",
       "      dtype=object)"
      ]
     },
     "execution_count": 41,
     "metadata": {},
     "output_type": "execute_result"
    }
   ],
   "source": [
    "x[0]"
   ]
  },
  {
   "cell_type": "code",
   "execution_count": 42,
   "metadata": {},
   "outputs": [
    {
     "data": {
      "text/plain": [
       "array([0.0, 0.0, 0.0, 1.0, 0.0, 0.0, 0.0, 0.0, 2011, 'manuell', 190,\n",
       "       125000, 5, 'diesel', 'audi', 'ja'], dtype=object)"
      ]
     },
     "execution_count": 42,
     "metadata": {},
     "output_type": "execute_result"
    }
   ],
   "source": [
    "#Categorical Values in x - 0,2,6,7,8 columns-One hot Encoding\n",
    "#One hot Encoding for Vehicle type\n",
    "ct=ColumnTransformer([('on',OneHotEncoder(),[0])],remainder='passthrough')\n",
    "x=ct.fit_transform(x)\n",
    "x[0]"
   ]
  },
  {
   "cell_type": "code",
   "execution_count": 43,
   "metadata": {},
   "outputs": [
    {
     "data": {
      "text/plain": [
       "(236513, 16)"
      ]
     },
     "execution_count": 43,
     "metadata": {},
     "output_type": "execute_result"
    }
   ],
   "source": [
    "x.shape"
   ]
  },
  {
   "cell_type": "code",
   "execution_count": 44,
   "metadata": {},
   "outputs": [
    {
     "data": {
      "text/plain": [
       "['transform']"
      ]
     },
     "execution_count": 44,
     "metadata": {},
     "output_type": "execute_result"
    }
   ],
   "source": [
    "import joblib\n",
    "joblib.dump(ct,'transform') #Saving the transformed data"
   ]
  },
  {
   "cell_type": "code",
   "execution_count": 45,
   "metadata": {},
   "outputs": [
    {
     "data": {
      "text/plain": [
       "array([0.0, 0.0, 1.0, 0.0, 0.0, 0.0, 0.0, 2011, 'manuell', 190, 125000, 5,\n",
       "       'diesel', 'audi', 'ja'], dtype=object)"
      ]
     },
     "execution_count": 45,
     "metadata": {},
     "output_type": "execute_result"
    }
   ],
   "source": [
    "x=x[:,1:] #Removing the dummy variable i.e first column\n",
    "x[0]"
   ]
  },
  {
   "cell_type": "code",
   "execution_count": 46,
   "metadata": {},
   "outputs": [
    {
     "data": {
      "text/plain": [
       "(236513, 15)"
      ]
     },
     "execution_count": 46,
     "metadata": {},
     "output_type": "execute_result"
    }
   ],
   "source": [
    "x.shape"
   ]
  },
  {
   "cell_type": "code",
   "execution_count": 47,
   "metadata": {},
   "outputs": [
    {
     "data": {
      "text/plain": [
       "array([0.0, 1.0, 0.0, 0.0, 1.0, 0.0, 0.0, 0.0, 0.0, 2011, 190, 125000, 5,\n",
       "       'diesel', 'audi', 'ja'], dtype=object)"
      ]
     },
     "execution_count": 47,
     "metadata": {},
     "output_type": "execute_result"
    }
   ],
   "source": [
    "#One hot Encoding for gear box\n",
    "ct=ColumnTransformer([('on',OneHotEncoder(),[8])],remainder='passthrough')\n",
    "x=ct.fit_transform(x)\n",
    "x[0]"
   ]
  },
  {
   "cell_type": "code",
   "execution_count": 48,
   "metadata": {},
   "outputs": [
    {
     "data": {
      "text/plain": [
       "['transform1']"
      ]
     },
     "execution_count": 48,
     "metadata": {},
     "output_type": "execute_result"
    }
   ],
   "source": [
    "import joblib\n",
    "joblib.dump(ct,'transform1')"
   ]
  },
  {
   "cell_type": "code",
   "execution_count": 49,
   "metadata": {},
   "outputs": [
    {
     "data": {
      "text/plain": [
       "(236513, 16)"
      ]
     },
     "execution_count": 49,
     "metadata": {},
     "output_type": "execute_result"
    }
   ],
   "source": [
    "#As there are only 2 kinds in gearbox it will assign 0 or 1,no need to remove the first column\n",
    "x.shape"
   ]
  },
  {
   "cell_type": "code",
   "execution_count": 50,
   "metadata": {},
   "outputs": [
    {
     "data": {
      "text/plain": [
       "array([0.0, 1.0, 0.0, 0.0, 1.0, 0.0, 0.0, 0.0, 0.0, 2011, 190, 125000, 5,\n",
       "       'diesel', 'audi', 'ja'], dtype=object)"
      ]
     },
     "execution_count": 50,
     "metadata": {},
     "output_type": "execute_result"
    }
   ],
   "source": [
    "x[0]"
   ]
  },
  {
   "cell_type": "code",
   "execution_count": 51,
   "metadata": {},
   "outputs": [
    {
     "data": {
      "text/plain": [
       "array([0.0, 0.0, 0.0, 1.0, 0.0, 0.0, 0.0, 0.0, 1.0, 0.0, 0.0, 1.0, 0.0,\n",
       "       0.0, 0.0, 0.0, 2011, 190, 125000, 5, 'audi', 'ja'], dtype=object)"
      ]
     },
     "execution_count": 51,
     "metadata": {},
     "output_type": "execute_result"
    }
   ],
   "source": [
    "#One hot Encoding for fuel type\n",
    "ct=ColumnTransformer([('on',OneHotEncoder(),[13])],remainder='passthrough')\n",
    "x=ct.fit_transform(x)\n",
    "x[0]"
   ]
  },
  {
   "cell_type": "code",
   "execution_count": 52,
   "metadata": {},
   "outputs": [
    {
     "data": {
      "text/plain": [
       "['transform2']"
      ]
     },
     "execution_count": 52,
     "metadata": {},
     "output_type": "execute_result"
    }
   ],
   "source": [
    "import joblib\n",
    "joblib.dump(ct,'transform2')"
   ]
  },
  {
   "cell_type": "code",
   "execution_count": 53,
   "metadata": {},
   "outputs": [
    {
     "data": {
      "text/plain": [
       "array([0.0, 0.0, 1.0, 0.0, 0.0, 0.0, 0.0, 1.0, 0.0, 0.0, 1.0, 0.0, 0.0,\n",
       "       0.0, 0.0, 2011, 190, 125000, 5, 'audi', 'ja'], dtype=object)"
      ]
     },
     "execution_count": 53,
     "metadata": {},
     "output_type": "execute_result"
    }
   ],
   "source": [
    "x=x[:,1:]\n",
    "x[0]"
   ]
  },
  {
   "cell_type": "code",
   "execution_count": 54,
   "metadata": {},
   "outputs": [
    {
     "data": {
      "text/plain": [
       "(236513, 21)"
      ]
     },
     "execution_count": 54,
     "metadata": {},
     "output_type": "execute_result"
    }
   ],
   "source": [
    "x.shape"
   ]
  },
  {
   "cell_type": "code",
   "execution_count": 55,
   "metadata": {},
   "outputs": [
    {
     "data": {
      "text/plain": [
       "array([0.0, 0.0, 1.0, 0.0, 0.0, 0.0, 0.0, 1.0, 0.0, 0.0, 1.0, 0.0, 0.0,\n",
       "       0.0, 0.0, 2011, 190, 125000, 5, 'audi', 'ja'], dtype=object)"
      ]
     },
     "execution_count": 55,
     "metadata": {},
     "output_type": "execute_result"
    }
   ],
   "source": [
    "x[0]"
   ]
  },
  {
   "cell_type": "code",
   "execution_count": 56,
   "metadata": {},
   "outputs": [
    {
     "data": {
      "text/plain": [
       "array([0.0, 1.0, 0.0, 0.0, 0.0, 0.0, 0.0, 0.0, 0.0, 0.0, 0.0, 0.0, 0.0,\n",
       "       0.0, 0.0, 0.0, 0.0, 0.0, 0.0, 0.0, 0.0, 0.0, 0.0, 0.0, 0.0, 0.0,\n",
       "       0.0, 0.0, 0.0, 0.0, 0.0, 0.0, 0.0, 0.0, 0.0, 0.0, 0.0, 0.0, 0.0,\n",
       "       0.0, 0.0, 0.0, 1.0, 0.0, 0.0, 0.0, 0.0, 1.0, 0.0, 0.0, 1.0, 0.0,\n",
       "       0.0, 0.0, 0.0, 2011, 190, 125000, 5, 'ja'], dtype=object)"
      ]
     },
     "execution_count": 56,
     "metadata": {},
     "output_type": "execute_result"
    }
   ],
   "source": [
    "#One hot Encoding for brand\n",
    "ct=ColumnTransformer([('on',OneHotEncoder(),[19])],remainder='passthrough')\n",
    "x=ct.fit_transform(x)\n",
    "x[0]"
   ]
  },
  {
   "cell_type": "code",
   "execution_count": 57,
   "metadata": {},
   "outputs": [
    {
     "data": {
      "text/plain": [
       "['transform3']"
      ]
     },
     "execution_count": 57,
     "metadata": {},
     "output_type": "execute_result"
    }
   ],
   "source": [
    "import joblib\n",
    "joblib.dump(ct,'transform3')"
   ]
  },
  {
   "cell_type": "code",
   "execution_count": 58,
   "metadata": {},
   "outputs": [
    {
     "data": {
      "text/plain": [
       "(236513, 59)"
      ]
     },
     "execution_count": 58,
     "metadata": {},
     "output_type": "execute_result"
    }
   ],
   "source": [
    "x=x[:,1:]\n",
    "x.shape"
   ]
  },
  {
   "cell_type": "code",
   "execution_count": 59,
   "metadata": {},
   "outputs": [
    {
     "data": {
      "text/plain": [
       "array([1.0, 0.0, 0.0, 0.0, 0.0, 0.0, 0.0, 0.0, 0.0, 0.0, 0.0, 0.0, 0.0,\n",
       "       0.0, 0.0, 0.0, 0.0, 0.0, 0.0, 0.0, 0.0, 0.0, 0.0, 0.0, 0.0, 0.0,\n",
       "       0.0, 0.0, 0.0, 0.0, 0.0, 0.0, 0.0, 0.0, 0.0, 0.0, 0.0, 0.0, 0.0,\n",
       "       0.0, 0.0, 1.0, 0.0, 0.0, 0.0, 0.0, 1.0, 0.0, 0.0, 1.0, 0.0, 0.0,\n",
       "       0.0, 0.0, 2011, 190, 125000, 5, 'ja'], dtype=object)"
      ]
     },
     "execution_count": 59,
     "metadata": {},
     "output_type": "execute_result"
    }
   ],
   "source": [
    "x[0]"
   ]
  },
  {
   "cell_type": "code",
   "execution_count": 60,
   "metadata": {},
   "outputs": [
    {
     "data": {
      "text/plain": [
       "array([1.0, 0.0, 1.0, 0.0, 0.0, 0.0, 0.0, 0.0, 0.0, 0.0, 0.0, 0.0, 0.0,\n",
       "       0.0, 0.0, 0.0, 0.0, 0.0, 0.0, 0.0, 0.0, 0.0, 0.0, 0.0, 0.0, 0.0,\n",
       "       0.0, 0.0, 0.0, 0.0, 0.0, 0.0, 0.0, 0.0, 0.0, 0.0, 0.0, 0.0, 0.0,\n",
       "       0.0, 0.0, 0.0, 0.0, 1.0, 0.0, 0.0, 0.0, 0.0, 1.0, 0.0, 0.0, 1.0,\n",
       "       0.0, 0.0, 0.0, 0.0, 2011, 190, 125000, 5], dtype=object)"
      ]
     },
     "execution_count": 60,
     "metadata": {},
     "output_type": "execute_result"
    }
   ],
   "source": [
    "#One hot Encoding for Not Repaired Damaged\n",
    "ct=ColumnTransformer([('on',OneHotEncoder(),[-1])],remainder='passthrough')\n",
    "x=ct.fit_transform(x)\n",
    "x[0]"
   ]
  },
  {
   "cell_type": "code",
   "execution_count": 61,
   "metadata": {},
   "outputs": [
    {
     "data": {
      "text/plain": [
       "['transform4']"
      ]
     },
     "execution_count": 61,
     "metadata": {},
     "output_type": "execute_result"
    }
   ],
   "source": [
    "import joblib\n",
    "joblib.dump(ct,'transform4')"
   ]
  },
  {
   "cell_type": "code",
   "execution_count": 62,
   "metadata": {},
   "outputs": [
    {
     "data": {
      "text/plain": [
       "(236513, 60)"
      ]
     },
     "execution_count": 62,
     "metadata": {},
     "output_type": "execute_result"
    }
   ],
   "source": [
    "#As there are only 2 kinds in NotrepairedDamaged it will assign 0 or 1,no need to remove the first column\n",
    "x.shape"
   ]
  },
  {
   "cell_type": "markdown",
   "metadata": {},
   "source": [
    "## Feature Scaling"
   ]
  },
  {
   "cell_type": "code",
   "execution_count": 63,
   "metadata": {},
   "outputs": [
    {
     "data": {
      "text/plain": [
       "array([[ 2.75225433, -2.75225433,  3.27053585, ...,  1.4996086 ,\n",
       "        -0.16192709, -0.33635066],\n",
       "       [-0.36333851,  0.36333851, -0.30576029, ..., -0.77153068,\n",
       "         0.59816829, -0.04959663],\n",
       "       [-0.36333851,  0.36333851, -0.30576029, ..., -0.8900249 ,\n",
       "        -1.22606063,  0.2371574 ],\n",
       "       ...,\n",
       "       [-0.36333851,  0.36333851, -0.30576029, ..., -2.25270846,\n",
       "         0.59816829, -0.90985871],\n",
       "       [-0.36333851,  0.36333851, -0.30576029, ..., -0.25805571,\n",
       "        -0.16192709, -0.90985871],\n",
       "       [-0.36333851,  0.36333851, -0.30576029, ..., -0.23830667,\n",
       "         0.59816829, -0.90985871]])"
      ]
     },
     "execution_count": 63,
     "metadata": {},
     "output_type": "execute_result"
    }
   ],
   "source": [
    "from sklearn.preprocessing import StandardScaler\n",
    "sc=StandardScaler()\n",
    "x=sc.fit_transform(x)\n",
    "x"
   ]
  },
  {
   "cell_type": "code",
   "execution_count": 64,
   "metadata": {},
   "outputs": [
    {
     "data": {
      "text/plain": [
       "array([ 2.75225433, -2.75225433,  3.27053585, -0.34873538, -0.06885439,\n",
       "       -0.06489945, -0.12372632, -0.05337956, -0.03833152, -0.0465321 ,\n",
       "       -0.16195443, -0.27531342, -0.0904676 , -0.10638819, -0.03405646,\n",
       "       -0.04385485, -0.08820757, -0.02186329, -0.03545876, -0.03920661,\n",
       "       -0.12965245, -0.31723641, -0.10479151, -0.09225568, -0.11961074,\n",
       "       -0.34947468, -0.18591736, -0.03323782, -0.22601947, -0.03436615,\n",
       "       -0.04095283, -0.1433608 , -0.13496269, -0.11800033, -0.06204553,\n",
       "       -0.04579626, -0.08320143, -0.12330292, -0.02157098, -0.52040725,\n",
       "       -0.10082243, -1.38284324, -0.04375796,  1.4415663 , -0.01216574,\n",
       "       -0.02759777, -0.12514539, -0.49096788,  0.49096788, -0.33124431,\n",
       "       -0.26240212,  4.59301193, -0.56898339, -0.51927865, -0.63941141,\n",
       "       -0.19618889,  1.50320592,  1.4996086 , -0.16192709, -0.33635066])"
      ]
     },
     "execution_count": 64,
     "metadata": {},
     "output_type": "execute_result"
    }
   ],
   "source": [
    "x[0]"
   ]
  },
  {
   "cell_type": "markdown",
   "metadata": {},
   "source": [
    "## Splitting data into train and test"
   ]
  },
  {
   "cell_type": "code",
   "execution_count": 65,
   "metadata": {},
   "outputs": [],
   "source": [
    "from sklearn.model_selection import train_test_split\n",
    "x_train,x_test,y_train,y_test=train_test_split(x,y,test_size=0.3,random_state=0)"
   ]
  },
  {
   "cell_type": "markdown",
   "metadata": {},
   "source": [
    "### Training,Testing and Evaluation of model using Multi-Linear Regression,Decision Tree Regressor,Random Forest Regressor"
   ]
  },
  {
   "cell_type": "markdown",
   "metadata": {},
   "source": [
    "## Multi Linear Regression"
   ]
  },
  {
   "cell_type": "code",
   "execution_count": 66,
   "metadata": {},
   "outputs": [],
   "source": [
    "from sklearn.linear_model import LinearRegression\n",
    "mr=LinearRegression()"
   ]
  },
  {
   "cell_type": "code",
   "execution_count": 67,
   "metadata": {},
   "outputs": [
    {
     "data": {
      "text/plain": [
       "LinearRegression(copy_X=True, fit_intercept=True, n_jobs=None, normalize=False)"
      ]
     },
     "execution_count": 67,
     "metadata": {},
     "output_type": "execute_result"
    }
   ],
   "source": [
    "mr.fit(x_train,y_train)"
   ]
  },
  {
   "cell_type": "code",
   "execution_count": 68,
   "metadata": {},
   "outputs": [
    {
     "data": {
      "text/plain": [
       "array([ 1554.30174017,  6145.55174017, 10574.92674017, ...,\n",
       "        -573.91700983,  6006.17674017,  -660.01075983])"
      ]
     },
     "execution_count": 68,
     "metadata": {},
     "output_type": "execute_result"
    }
   ],
   "source": [
    "y_pred=mr.predict(x_test)\n",
    "y_pred"
   ]
  },
  {
   "cell_type": "code",
   "execution_count": 69,
   "metadata": {},
   "outputs": [
    {
     "data": {
      "text/plain": [
       "0.713232873074131"
      ]
     },
     "execution_count": 69,
     "metadata": {},
     "output_type": "execute_result"
    }
   ],
   "source": [
    "from sklearn.metrics import r2_score\n",
    "r2_score(y_test,y_pred)"
   ]
  },
  {
   "cell_type": "markdown",
   "metadata": {},
   "source": [
    "## Decision Tree Regressor"
   ]
  },
  {
   "cell_type": "code",
   "execution_count": 70,
   "metadata": {},
   "outputs": [],
   "source": [
    "from sklearn.tree import DecisionTreeRegressor\n",
    "dt=DecisionTreeRegressor(criterion='mse',random_state=0)"
   ]
  },
  {
   "cell_type": "code",
   "execution_count": 71,
   "metadata": {},
   "outputs": [
    {
     "data": {
      "text/plain": [
       "DecisionTreeRegressor(ccp_alpha=0.0, criterion='mse', max_depth=None,\n",
       "                      max_features=None, max_leaf_nodes=None,\n",
       "                      min_impurity_decrease=0.0, min_impurity_split=None,\n",
       "                      min_samples_leaf=1, min_samples_split=2,\n",
       "                      min_weight_fraction_leaf=0.0, presort='deprecated',\n",
       "                      random_state=0, splitter='best')"
      ]
     },
     "execution_count": 71,
     "metadata": {},
     "output_type": "execute_result"
    }
   ],
   "source": [
    "dt.fit(x_train,y_train)"
   ]
  },
  {
   "cell_type": "code",
   "execution_count": 72,
   "metadata": {},
   "outputs": [
    {
     "data": {
      "text/plain": [
       "array([1000., 4015., 4750., ...,  610., 2300., 1345.])"
      ]
     },
     "execution_count": 72,
     "metadata": {},
     "output_type": "execute_result"
    }
   ],
   "source": [
    "y_pred=dt.predict(x_test)\n",
    "y_pred"
   ]
  },
  {
   "cell_type": "code",
   "execution_count": 73,
   "metadata": {},
   "outputs": [
    {
     "data": {
      "text/plain": [
       "0.8011791920592324"
      ]
     },
     "execution_count": 73,
     "metadata": {},
     "output_type": "execute_result"
    }
   ],
   "source": [
    "from sklearn.metrics import r2_score\n",
    "r2_score(y_test,y_pred)"
   ]
  },
  {
   "cell_type": "markdown",
   "metadata": {},
   "source": [
    "## Random Forest Regressor"
   ]
  },
  {
   "cell_type": "code",
   "execution_count": 74,
   "metadata": {},
   "outputs": [],
   "source": [
    "from sklearn.ensemble import RandomForestRegressor\n",
    "rf=RandomForestRegressor(n_estimators=20,criterion='mse',random_state=0)"
   ]
  },
  {
   "cell_type": "code",
   "execution_count": 75,
   "metadata": {},
   "outputs": [
    {
     "data": {
      "text/plain": [
       "RandomForestRegressor(bootstrap=True, ccp_alpha=0.0, criterion='mse',\n",
       "                      max_depth=None, max_features='auto', max_leaf_nodes=None,\n",
       "                      max_samples=None, min_impurity_decrease=0.0,\n",
       "                      min_impurity_split=None, min_samples_leaf=1,\n",
       "                      min_samples_split=2, min_weight_fraction_leaf=0.0,\n",
       "                      n_estimators=20, n_jobs=None, oob_score=False,\n",
       "                      random_state=0, verbose=0, warm_start=False)"
      ]
     },
     "execution_count": 75,
     "metadata": {},
     "output_type": "execute_result"
    }
   ],
   "source": [
    "rf.fit(x_train,y_train)"
   ]
  },
  {
   "cell_type": "code",
   "execution_count": 76,
   "metadata": {},
   "outputs": [
    {
     "data": {
      "text/plain": [
       "array([ 989.37142857, 4231.075     , 9160.35      , ...,  586.41765873,\n",
       "       4279.23333333, 1354.23333333])"
      ]
     },
     "execution_count": 76,
     "metadata": {},
     "output_type": "execute_result"
    }
   ],
   "source": [
    "y_pred=rf.predict(x_test)\n",
    "y_pred"
   ]
  },
  {
   "cell_type": "code",
   "execution_count": 77,
   "metadata": {
    "scrolled": true
   },
   "outputs": [
    {
     "data": {
      "text/plain": [
       "0.8682230655467761"
      ]
     },
     "execution_count": 77,
     "metadata": {},
     "output_type": "execute_result"
    }
   ],
   "source": [
    "from sklearn.metrics import r2_score\n",
    "r2_score(y_test,y_pred)"
   ]
  },
  {
   "cell_type": "markdown",
   "metadata": {},
   "source": [
    "## Cross Validation"
   ]
  },
  {
   "cell_type": "code",
   "execution_count": 83,
   "metadata": {},
   "outputs": [
    {
     "data": {
      "text/plain": [
       "<matplotlib.legend.Legend at 0x1fd0619d730>"
      ]
     },
     "execution_count": 83,
     "metadata": {},
     "output_type": "execute_result"
    },
    {
     "data": {
      "image/png": "[encoded data removed]",
      "text/plain": [
       "<Figure size 432x288 with 1 Axes>"
      ]
     },
     "metadata": {
      "needs_background": "light"
     },
     "output_type": "display_data"
    }
   ],
   "source": [
    "import random\n",
    "num_samples=50\n",
    "idx=random.sample(range(len(y_test)),num_samples) \n",
    "plt.plot(range(num_samples),y_test[idx],'ro-')\n",
    "plt.plot(range(num_samples),y_pred[idx],'bx-')\n",
    "plt.ylabel(\"price\")\n",
    "plt.legend([\"actual price\",\"predicted price\",\"mean price\"])"
   ]
  },
  {
   "cell_type": "code",
   "execution_count": 79,
   "metadata": {},
   "outputs": [],
   "source": [
    "import pickle\n",
    "#saving the model\n",
    "filename  = 'vehicleresaleprice.pkl'\n",
    "scalerFile= 'scaler.pkl'\n",
    "pickle.dump(rf, open(filename, 'wb'))\n",
    "pickle.dump(sc, open(scalerFile, 'wb'))"
   ]
  },
  {
   "cell_type": "markdown",
   "metadata": {},
   "source": [
    "## Observation:"
   ]
  },
  {
   "cell_type": "markdown",
   "metadata": {},
   "source": [
    "|Algorithm  | Accuracy  |Accuracy in %\n",
    "|-----------|-----------|--------------\n",
    "|Multi Linear Regression|0.713232873074131|71.3%\n",
    "|Decision Tree Regression|0.8011791920592324|80.1%\n",
    "|Random Forest Regressor|0.8682230655467761|86.8%\n"
   ]
  }
 ],
 "metadata": {
  "kernelspec": {
   "display_name": "Python 3",
   "language": "python",
   "name": "python3"
  },
  "language_info": {
   "codemirror_mode": {
    "name": "ipython",
    "version": 3
   },
   "file_extension": ".py",
   "mimetype": "text/x-python",
   "name": "python",
   "nbconvert_exporter": "python",
   "pygments_lexer": "ipython3",
   "version": "3.8.3"
  }
 },
 "nbformat": 4,
 "nbformat_minor": 4
}
